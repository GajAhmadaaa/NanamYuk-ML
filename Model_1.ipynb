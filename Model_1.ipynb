{
  "nbformat": 4,
  "nbformat_minor": 0,
  "metadata": {
    "colab": {
      "name": "Model-1.ipynb",
      "provenance": [],
      "collapsed_sections": [],
      "include_colab_link": true
    },
    "kernelspec": {
      "name": "python3",
      "display_name": "Python 3"
    },
    "language_info": {
      "name": "python"
    }
  },
  "cells": [
    {
      "cell_type": "markdown",
      "metadata": {
        "id": "view-in-github",
        "colab_type": "text"
      },
      "source": [
        "<a href=\"https://colab.research.google.com/github/GajAhmadaaa/NanamYuk-ML/blob/main/Model_1.ipynb\" target=\"_parent\"><img src=\"https://colab.research.google.com/assets/colab-badge.svg\" alt=\"Open In Colab\"/></a>"
      ]
    },
    {
      "cell_type": "markdown",
      "source": [
        "# City Based Weather Analysis"
      ],
      "metadata": {
        "id": "3hWsdMSWy203"
      }
    },
    {
      "cell_type": "code",
      "source": [
        "# importing the required libraries\n",
        "import requests\n",
        "# Enter the api key of openweathermap here\n",
        "api_key = \"81c713c1b0fea513c62681c97920daa9\"\n",
        "# Base url for the open map api\n",
        "root_url = \"http://api.openweathermap.org/data/2.5/weather?\"\n",
        "# Input the City name for which we need the weather data\n",
        "city_name = input(\"Please Enter The City Name : \")\n",
        "# Building the final url for the API call\n",
        "url = f\"{root_url}appid={api_key}&q={city_name}\"\n",
        "# sending a get request at the url\n",
        "r = requests.get(url)\n",
        "# storing the returned json data into a variable\n",
        "data = r.json()\n",
        "# Checking If there is no error and the status code is 200\n",
        "if data['cod'] == 200:\n",
        "    # getting the temperature from the json data\n",
        "    temp = data['main']['temp'] - 273.15\n",
        "    # getting the pressure from the json data\n",
        "    pressure = data['main']['pressure']\n",
        "    # getting the humidity from the json data\n",
        "    humidity = data['main']['humidity']\n",
        "    # getting the description from the json data\n",
        "    descr = data['weather'][0]['description']\n",
        "    # getting the wind speed from the json data\n",
        "    wind = data['wind']['speed']\n",
        "    # Displaying all the data\n",
        "    print(f\"City Name : {city_name}\")\n",
        "    print(f\"The Weather Condition is {descr}\")\n",
        "    print(f\"The temperature is {temp :.2f} Celsius\")\n",
        "    print(f\"The pressure is {pressure}hPa\")\n",
        "    print(f\"The humidity is {humidity}%\")\n",
        "    print(f\"The speed of wind is {wind}m/s\")\n",
        "    print(url)\n",
        "else:\n",
        "    # If any error occured then print this\n",
        "    print(\"Something Went Wrong\")"
      ],
      "metadata": {
        "colab": {
          "base_uri": "https://localhost:8080/"
        },
        "id": "fam5io_64MMA",
        "outputId": "1954cafb-6826-491c-d734-7a6f54e463ea"
      },
      "execution_count": 1,
      "outputs": [
        {
          "output_type": "stream",
          "name": "stdout",
          "text": [
            "Please Enter The City Name : jakarta\n",
            "City Name : jakarta\n",
            "The Weather Condition is light rain\n",
            "The temperature is 31.43 Celsius\n",
            "The pressure is 1007hPa\n",
            "The humidity is 67%\n",
            "The speed of wind is 4.08m/s\n",
            "http://api.openweathermap.org/data/2.5/weather?appid=81c713c1b0fea513c62681c97920daa9&q=jakarta\n"
          ]
        }
      ]
    },
    {
      "cell_type": "markdown",
      "source": [
        "## Improved City Based Weather Analysis but just avg Temp within month"
      ],
      "metadata": {
        "id": "AD9D0Qouq5RH"
      }
    },
    {
      "cell_type": "code",
      "source": [
        "import requests\n",
        "from datetime import datetime\n",
        "today = datetime.today()\n",
        "\n",
        "api_key = \"81c713c1b0fea513c62681c97920daa9\"\n",
        "\n",
        "root_url = \"https://history.openweathermap.org/data/2.5/aggregated/month?\"\n",
        "\n",
        "city_name = input(\"Please Enter The City Name : \")\n",
        "\n",
        "url = f\"{root_url}month={today.month}&q={city_name},ID&appid={api_key}\"\n",
        "\n",
        "r = requests.get(url)\n",
        "\n",
        "data = r.json()\n",
        "# Checking If there is no error and the status code is 200\n",
        "if data['cod'] == 200:\n",
        "    # getting the temperature from the json data\n",
        "    temp = data['result']['temp']['mean'] - 273.15\n",
        "    # getting the humidity from the json data\n",
        "    humidity = data['result']['humidity']['mean']\n",
        "    # getting the month from the json data\n",
        "    month = data['result']['month']\n",
        "    print(f\"City Name : {city_name}\")\n",
        "    print(f\"The avg temperature in month {month} is {temp :.2f} Celsius\")\n",
        "    print(f\"The avg humidity in month {month} is {humidity :.2f} %\")\n",
        "    print(url)\n",
        "else:\n",
        "    message = data['message']\n",
        "    print(\"Something Went Wrong,\", message)"
      ],
      "metadata": {
        "id": "Xv_g8NqYq2t8",
        "colab": {
          "base_uri": "https://localhost:8080/"
        },
        "outputId": "25460a20-7a36-465b-d7f6-da29b569df04"
      },
      "execution_count": 2,
      "outputs": [
        {
          "output_type": "stream",
          "name": "stdout",
          "text": [
            "Please Enter The City Name : jakarta\n",
            "City Name : jakarta\n",
            "The avg temperature in month 5 is 28.62 Celsius\n",
            "The avg humidity in month 5 is 77.30 %\n",
            "https://history.openweathermap.org/data/2.5/aggregated/month?month=5&q=jakarta,ID&appid=81c713c1b0fea513c62681c97920daa9\n"
          ]
        }
      ]
    },
    {
      "cell_type": "markdown",
      "source": [
        "## Error handling with try except for location that has no weather history data"
      ],
      "metadata": {
        "id": "UFzlOgwNcJ3o"
      }
    },
    {
      "cell_type": "code",
      "source": [
        "import requests\n",
        "from datetime import datetime\n",
        "today = datetime.today()\n",
        "\n",
        "api_key = \"81c713c1b0fea513c62681c97920daa9\"\n",
        "city_name = input(\"Please Enter The City Name : \")\n",
        "\n",
        "###########################################################################\n",
        "# Bisa dijadikan Method #\n",
        "root_url = \"https://history.openweathermap.org/data/2.5/aggregated/month?\"\n",
        "url = f\"{root_url}month={today.month}&q={city_name},ID&appid={api_key}\"\n",
        "r = requests.get(url)\n",
        "data = r.json()\n",
        "\n",
        "root_url2 = \"https://api.openweathermap.org/data/2.5/weather?\"\n",
        "url2 = f\"{root_url2}q={city_name}&appid={api_key}\"\n",
        "r2 = requests.get(url2)\n",
        "data2 = r2.json()\n",
        "############################################################################\n",
        "\n",
        "# Checking If there is no error and the status code is 200\n",
        "try:\n",
        "  if data['cod'] == 200:\n",
        "      # getting the temperature from the json data\n",
        "      temp = data['result']['temp']['mean'] - 273.15\n",
        "      # getting the humidity from the json data\n",
        "      humidity = data['result']['humidity']['mean']\n",
        "      # getting the precipitation from the json data\n",
        "      precipitation = data['result']['precipitation']['mean'] * 730.001\n",
        "      # getting the month from the json data\n",
        "      month = data['result']['month']\n",
        "      print(f\"City Name : {city_name}\")\n",
        "      print(f\"The avg temperature in month {month} is {temp :.2f} Celsius\")\n",
        "      print(f\"The avg humidity in month {month} is {humidity :.2f} %\")\n",
        "      print(f\"The avg precipitation in month {month} is {precipitation :.2f} mm/month\")\n",
        "      print(url)\n",
        "  else:\n",
        "      message = data['message']\n",
        "      print(\"Something Went Wrong,\", message)\n",
        "except:\n",
        "  if data['code'] == 404000:\n",
        "    message = data['message']\n",
        "    print(f\"Error, {message}. Switching to current weather....\")\n",
        "    # getting the temperature from the json data\n",
        "    temp = data2['main']['temp'] - 273.15\n",
        "    # getting the humidity from the json data\n",
        "    humidity = data2['main']['humidity']\n",
        "    # getting the precipitation from avg indonesia precipitation\n",
        "    precipitation = 235.51\n",
        "    print(f\"City Name : {city_name}\")\n",
        "    print(f\"The current temperature is : {temp :.2f} Celsius\")\n",
        "    print(f\"The current humidity is : {humidity :.2f} %\")\n",
        "    print(f\"The current precipitation is : {precipitation :.2f} mm/month\")\n",
        "    print(url2)"
      ],
      "metadata": {
        "colab": {
          "base_uri": "https://localhost:8080/"
        },
        "id": "O4jWOqCidLZM",
        "outputId": "f846df1f-ebec-4c65-c508-e89bf23934d9"
      },
      "execution_count": 2,
      "outputs": [
        {
          "output_type": "stream",
          "name": "stdout",
          "text": [
            "Please Enter The City Name : solo\n",
            "Error, no data. Switching to current weather....\n",
            "City Name : solo\n",
            "The current temperature is : 26.04 Celsius\n",
            "The current humidity is : 88.00 %\n",
            "The current precipitation is : 235.51 mm/month\n",
            "https://api.openweathermap.org/data/2.5/weather?q=solo&appid=81c713c1b0fea513c62681c97920daa9\n"
          ]
        }
      ]
    },
    {
      "cell_type": "markdown",
      "source": [
        "# Dummy Dataset"
      ],
      "metadata": {
        "id": "EUa485-lTZQv"
      }
    },
    {
      "cell_type": "code",
      "source": [
        "import pandas as pd\n",
        "import numpy as np\n",
        "np.random.seed(0)\n",
        "data1 =pd.DataFrame({\"Temperature\" : np.random.uniform(20, 33, 500).round(2),\n",
        "                     \"Soil\" : np.random.choice(range(1,4), p=[0.2, 0.6, 0.2], size=500, replace=True),\n",
        "                     \"Light\" : np.random.choice(range(1,2), 500, replace=True),\n",
        "                     \"Humid\" : np.random.uniform(50, 61, 500).round(2),\n",
        "                     \"Rainfall\" : np.random.uniform(83.33, 166.67, 500).round(2),\n",
        "                     \"Label\"  : \"Bayam Hijau\"})\n",
        "data2 =pd.DataFrame({\"Temperature\" : np.random.uniform(20,28, 500).round(2),\n",
        "                     \"Soil\" : np.random.choice(range(1,4), p=[0.2, 0.6, 0.2], size=500, replace=True),\n",
        "                     \"Light\" : np.random.choice(range(1,2), 500, replace=True),\n",
        "                     \"Humid\" : np.random.uniform(60, 81, 500).round(2),\n",
        "                     \"Rainfall\" : np.random.uniform(62.50, 104.17, 500).round(2),\n",
        "                     \"Label\"  : \"Tomat\"})\n",
        "data3 =pd.DataFrame({\"Temperature\" : np.random.uniform(25,30, 500).round(2),\n",
        "                     \"Soil\" : np.random.choice(range(1,4), p=[0.2, 0.6, 0.2], size=500, replace=True),\n",
        "                     \"Light\" : np.random.choice(range(1,3), 500, replace=True),\n",
        "                     \"Humid\" : np.random.uniform(50, 81 , 500).round(2),\n",
        "                     \"Rainfall\" : np.random.uniform(41.67, 416.67 , 500).round(2),\n",
        "                     \"Label\"  : \"Kangkung\"})\n",
        "data4 =pd.DataFrame({\"Temperature\" : np.random.uniform(22,30, 500).round(2),\n",
        "                     \"Soil\" : np.random.choice(range(1,4), p=[0.2, 0.6, 0.2], size=500, replace=True),\n",
        "                     \"Light\" : np.random.choice(range(1,2), 500, replace=True),\n",
        "                     \"Humid\" : np.random.uniform(80, 91, 500).round(2),\n",
        "                     \"Rainfall\" : np.random.uniform(104.17, 208.33, 500).round(2),\n",
        "                     \"Label\"  : \"Terung\"})\n",
        "data5 =pd.DataFrame({\"Temperature\" : np.random.uniform(18,20, 500).round(2),\n",
        "                     \"Soil\" : np.random.choice(range(1,4), p=[0.2, 0.6, 0.2], size=500, replace=True),\n",
        "                     \"Light\" : np.random.choice(range(1,3), 500, replace=True),\n",
        "                     \"Humid\" : np.random.uniform(80, 91, 500).round(2),\n",
        "                     \"Rainfall\" : np.random.uniform(41.67, 83.33, 500).round(2),\n",
        "                     \"Label\"  : \"Kubis\"})\n",
        "data6 =pd.DataFrame({\"Temperature\" : np.random.uniform(21,32, 500).round(2),\n",
        "                     \"Soil\" : np.random.choice(range(1,4), p=[0.6, 0.2, 0.2], size=500, replace=True),\n",
        "                     \"Light\" : np.random.choice(range(2,3), 500, replace=True),\n",
        "                     \"Humid\" : np.random.uniform(30, 51, 500).round(2),\n",
        "                     \"Rainfall\" : np.random.uniform(58.33, 116.67, 500).round(2),\n",
        "                     \"Label\"  : \"Lidah Mertua\"})\n",
        "data7 =pd.DataFrame({\"Temperature\" : np.random.uniform(23,30, 500).round(2),\n",
        "                     \"Soil\" : np.random.choice(range(1,4), p=[0.4, 0.5, 0.1], size=500, replace=True),\n",
        "                     \"Light\" : np.random.choice(range(2,3), 500, replace=True),\n",
        "                     \"Humid\" : np.random.uniform(50, 61, 500).round(2),\n",
        "                     \"Rainfall\" : np.random.uniform(233.33, 266.67, 500).round(2),\n",
        "                     \"Label\"  : \"Sri Rezeki\"})\n",
        "data8 =pd.DataFrame({\"Temperature\" : np.random.uniform(20,33, 500).round(2),\n",
        "                     \"Soil\" : np.random.choice(range(1,4), p=[0.6, 0.2, 0.2], size=500, replace=True),\n",
        "                     \"Light\" : np.random.choice(range(1,3), 500, replace=True),\n",
        "                     \"Humid\" : np.random.uniform(35, 46, 500).round(2),\n",
        "                     \"Rainfall\" : np.random.uniform(83.33, 250.00, 500).round(2),\n",
        "                     \"Label\"  : \"Lidah Buaya\"})\n",
        "data9 =pd.DataFrame({\"Temperature\" : np.random.uniform(18,31, 500).round(2),\n",
        "                     \"Soil\" : np.random.choice(range(1,4), p=[0.6, 0.2, 0.2], size=500, replace=True),\n",
        "                     \"Light\" : np.random.choice(range(1,3), 500, replace=True),\n",
        "                     \"Humid\" : np.random.uniform(50, 71, 500).round(2),\n",
        "                     \"Rainfall\" : np.random.uniform(233.33, 266.67, 500).round(2),\n",
        "                     \"Label\"  : \"Kuping Gajah\"})\n",
        "data10 =pd.DataFrame({\"Temperature\" : np.random.uniform(16,32, 500).round(2),\n",
        "                     \"Soil\" : np.random.choice(range(1,4), p=[0.6, 0.2, 0.2], size=500, replace=True),\n",
        "                     \"Light\" : np.random.choice(range(1,2), 500, replace=True),\n",
        "                     \"Humid\" : np.random.uniform(80, 96, 500).round(2),\n",
        "                     \"Rainfall\" : np.random.uniform(25.00, 116.67, 500).round(2),\n",
        "                     \"Label\"  : \"Lavender\"})\n",
        "data11 =pd.DataFrame({\"Temperature\" : np.random.uniform(16,30, 500).round(2),\n",
        "                     \"Soil\" : np.random.choice(range(1,4), p=[0.3, 0.3, 0.4], size=500, replace=True),\n",
        "                     \"Light\" : np.random.choice(range(1,2), 500, replace=True),\n",
        "                     \"Humid\" : np.random.uniform(70, 81, 500).round(2),\n",
        "                     \"Rainfall\" : np.random.uniform(125.00, 250.00, 500).round(2),\n",
        "                     \"Label\"  : \"Mawar\"})\n",
        "data12 =pd.DataFrame({\"Temperature\" : np.random.uniform(24,36, 500).round(2),\n",
        "                     \"Soil\" : np.random.choice(range(1,4), p=[0.4, 0.2, 0.4], size=500, replace=True),\n",
        "                     \"Light\" : np.random.choice(range(1,2), 500, replace=True),\n",
        "                     \"Humid\" : np.random.uniform(50, 81, 500).round(2),\n",
        "                     \"Rainfall\" : np.random.uniform(100.00, 119.00, 500).round(2),\n",
        "                     \"Label\"  : \"Melati\"})"
      ],
      "metadata": {
        "id": "kKUc71aXWaw5"
      },
      "execution_count": 3,
      "outputs": []
    },
    {
      "cell_type": "code",
      "source": [
        "df = data1.append(data2, ignore_index=True).append(data3, ignore_index=True).append(data4, ignore_index=True).append(data5, ignore_index=True)\\\n",
        "          .append(data6, ignore_index=True).append(data7, ignore_index=True).append(data8, ignore_index=True).append(data9, ignore_index=True)\\\n",
        "          .append(data10, ignore_index=True).append(data11, ignore_index=True).append(data12, ignore_index=True)\n",
        "df"
      ],
      "metadata": {
        "colab": {
          "base_uri": "https://localhost:8080/",
          "height": 424
        },
        "id": "5PVSyF0qpaCY",
        "outputId": "ca3f5a15-18f3-461b-a4b1-24ddda626853"
      },
      "execution_count": 4,
      "outputs": [
        {
          "output_type": "execute_result",
          "data": {
            "text/plain": [
              "      Temperature  Soil  Light  Humid  Rainfall        Label\n",
              "0           27.13     2      1  56.52    120.57  Bayam Hijau\n",
              "1           29.30     2      1  50.11    153.08  Bayam Hijau\n",
              "2           27.84     2      1  55.23    101.82  Bayam Hijau\n",
              "3           27.08     2      1  57.80    124.50  Bayam Hijau\n",
              "4           25.51     2      1  50.48    160.80  Bayam Hijau\n",
              "...           ...   ...    ...    ...       ...          ...\n",
              "5995        35.03     2      1  57.95    106.46       Melati\n",
              "5996        32.30     3      1  77.48    111.64       Melati\n",
              "5997        27.53     2      1  61.81    112.66       Melati\n",
              "5998        24.42     2      1  51.06    118.05       Melati\n",
              "5999        30.27     1      1  56.51    103.67       Melati\n",
              "\n",
              "[6000 rows x 6 columns]"
            ],
            "text/html": [
              "\n",
              "  <div id=\"df-c3d4fb5d-35aa-4abb-a1ca-0f40c75b55ce\">\n",
              "    <div class=\"colab-df-container\">\n",
              "      <div>\n",
              "<style scoped>\n",
              "    .dataframe tbody tr th:only-of-type {\n",
              "        vertical-align: middle;\n",
              "    }\n",
              "\n",
              "    .dataframe tbody tr th {\n",
              "        vertical-align: top;\n",
              "    }\n",
              "\n",
              "    .dataframe thead th {\n",
              "        text-align: right;\n",
              "    }\n",
              "</style>\n",
              "<table border=\"1\" class=\"dataframe\">\n",
              "  <thead>\n",
              "    <tr style=\"text-align: right;\">\n",
              "      <th></th>\n",
              "      <th>Temperature</th>\n",
              "      <th>Soil</th>\n",
              "      <th>Light</th>\n",
              "      <th>Humid</th>\n",
              "      <th>Rainfall</th>\n",
              "      <th>Label</th>\n",
              "    </tr>\n",
              "  </thead>\n",
              "  <tbody>\n",
              "    <tr>\n",
              "      <th>0</th>\n",
              "      <td>27.13</td>\n",
              "      <td>2</td>\n",
              "      <td>1</td>\n",
              "      <td>56.52</td>\n",
              "      <td>120.57</td>\n",
              "      <td>Bayam Hijau</td>\n",
              "    </tr>\n",
              "    <tr>\n",
              "      <th>1</th>\n",
              "      <td>29.30</td>\n",
              "      <td>2</td>\n",
              "      <td>1</td>\n",
              "      <td>50.11</td>\n",
              "      <td>153.08</td>\n",
              "      <td>Bayam Hijau</td>\n",
              "    </tr>\n",
              "    <tr>\n",
              "      <th>2</th>\n",
              "      <td>27.84</td>\n",
              "      <td>2</td>\n",
              "      <td>1</td>\n",
              "      <td>55.23</td>\n",
              "      <td>101.82</td>\n",
              "      <td>Bayam Hijau</td>\n",
              "    </tr>\n",
              "    <tr>\n",
              "      <th>3</th>\n",
              "      <td>27.08</td>\n",
              "      <td>2</td>\n",
              "      <td>1</td>\n",
              "      <td>57.80</td>\n",
              "      <td>124.50</td>\n",
              "      <td>Bayam Hijau</td>\n",
              "    </tr>\n",
              "    <tr>\n",
              "      <th>4</th>\n",
              "      <td>25.51</td>\n",
              "      <td>2</td>\n",
              "      <td>1</td>\n",
              "      <td>50.48</td>\n",
              "      <td>160.80</td>\n",
              "      <td>Bayam Hijau</td>\n",
              "    </tr>\n",
              "    <tr>\n",
              "      <th>...</th>\n",
              "      <td>...</td>\n",
              "      <td>...</td>\n",
              "      <td>...</td>\n",
              "      <td>...</td>\n",
              "      <td>...</td>\n",
              "      <td>...</td>\n",
              "    </tr>\n",
              "    <tr>\n",
              "      <th>5995</th>\n",
              "      <td>35.03</td>\n",
              "      <td>2</td>\n",
              "      <td>1</td>\n",
              "      <td>57.95</td>\n",
              "      <td>106.46</td>\n",
              "      <td>Melati</td>\n",
              "    </tr>\n",
              "    <tr>\n",
              "      <th>5996</th>\n",
              "      <td>32.30</td>\n",
              "      <td>3</td>\n",
              "      <td>1</td>\n",
              "      <td>77.48</td>\n",
              "      <td>111.64</td>\n",
              "      <td>Melati</td>\n",
              "    </tr>\n",
              "    <tr>\n",
              "      <th>5997</th>\n",
              "      <td>27.53</td>\n",
              "      <td>2</td>\n",
              "      <td>1</td>\n",
              "      <td>61.81</td>\n",
              "      <td>112.66</td>\n",
              "      <td>Melati</td>\n",
              "    </tr>\n",
              "    <tr>\n",
              "      <th>5998</th>\n",
              "      <td>24.42</td>\n",
              "      <td>2</td>\n",
              "      <td>1</td>\n",
              "      <td>51.06</td>\n",
              "      <td>118.05</td>\n",
              "      <td>Melati</td>\n",
              "    </tr>\n",
              "    <tr>\n",
              "      <th>5999</th>\n",
              "      <td>30.27</td>\n",
              "      <td>1</td>\n",
              "      <td>1</td>\n",
              "      <td>56.51</td>\n",
              "      <td>103.67</td>\n",
              "      <td>Melati</td>\n",
              "    </tr>\n",
              "  </tbody>\n",
              "</table>\n",
              "<p>6000 rows × 6 columns</p>\n",
              "</div>\n",
              "      <button class=\"colab-df-convert\" onclick=\"convertToInteractive('df-c3d4fb5d-35aa-4abb-a1ca-0f40c75b55ce')\"\n",
              "              title=\"Convert this dataframe to an interactive table.\"\n",
              "              style=\"display:none;\">\n",
              "        \n",
              "  <svg xmlns=\"http://www.w3.org/2000/svg\" height=\"24px\"viewBox=\"0 0 24 24\"\n",
              "       width=\"24px\">\n",
              "    <path d=\"M0 0h24v24H0V0z\" fill=\"none\"/>\n",
              "    <path d=\"M18.56 5.44l.94 2.06.94-2.06 2.06-.94-2.06-.94-.94-2.06-.94 2.06-2.06.94zm-11 1L8.5 8.5l.94-2.06 2.06-.94-2.06-.94L8.5 2.5l-.94 2.06-2.06.94zm10 10l.94 2.06.94-2.06 2.06-.94-2.06-.94-.94-2.06-.94 2.06-2.06.94z\"/><path d=\"M17.41 7.96l-1.37-1.37c-.4-.4-.92-.59-1.43-.59-.52 0-1.04.2-1.43.59L10.3 9.45l-7.72 7.72c-.78.78-.78 2.05 0 2.83L4 21.41c.39.39.9.59 1.41.59.51 0 1.02-.2 1.41-.59l7.78-7.78 2.81-2.81c.8-.78.8-2.07 0-2.86zM5.41 20L4 18.59l7.72-7.72 1.47 1.35L5.41 20z\"/>\n",
              "  </svg>\n",
              "      </button>\n",
              "      \n",
              "  <style>\n",
              "    .colab-df-container {\n",
              "      display:flex;\n",
              "      flex-wrap:wrap;\n",
              "      gap: 12px;\n",
              "    }\n",
              "\n",
              "    .colab-df-convert {\n",
              "      background-color: #E8F0FE;\n",
              "      border: none;\n",
              "      border-radius: 50%;\n",
              "      cursor: pointer;\n",
              "      display: none;\n",
              "      fill: #1967D2;\n",
              "      height: 32px;\n",
              "      padding: 0 0 0 0;\n",
              "      width: 32px;\n",
              "    }\n",
              "\n",
              "    .colab-df-convert:hover {\n",
              "      background-color: #E2EBFA;\n",
              "      box-shadow: 0px 1px 2px rgba(60, 64, 67, 0.3), 0px 1px 3px 1px rgba(60, 64, 67, 0.15);\n",
              "      fill: #174EA6;\n",
              "    }\n",
              "\n",
              "    [theme=dark] .colab-df-convert {\n",
              "      background-color: #3B4455;\n",
              "      fill: #D2E3FC;\n",
              "    }\n",
              "\n",
              "    [theme=dark] .colab-df-convert:hover {\n",
              "      background-color: #434B5C;\n",
              "      box-shadow: 0px 1px 3px 1px rgba(0, 0, 0, 0.15);\n",
              "      filter: drop-shadow(0px 1px 2px rgba(0, 0, 0, 0.3));\n",
              "      fill: #FFFFFF;\n",
              "    }\n",
              "  </style>\n",
              "\n",
              "      <script>\n",
              "        const buttonEl =\n",
              "          document.querySelector('#df-c3d4fb5d-35aa-4abb-a1ca-0f40c75b55ce button.colab-df-convert');\n",
              "        buttonEl.style.display =\n",
              "          google.colab.kernel.accessAllowed ? 'block' : 'none';\n",
              "\n",
              "        async function convertToInteractive(key) {\n",
              "          const element = document.querySelector('#df-c3d4fb5d-35aa-4abb-a1ca-0f40c75b55ce');\n",
              "          const dataTable =\n",
              "            await google.colab.kernel.invokeFunction('convertToInteractive',\n",
              "                                                     [key], {});\n",
              "          if (!dataTable) return;\n",
              "\n",
              "          const docLinkHtml = 'Like what you see? Visit the ' +\n",
              "            '<a target=\"_blank\" href=https://colab.research.google.com/notebooks/data_table.ipynb>data table notebook</a>'\n",
              "            + ' to learn more about interactive tables.';\n",
              "          element.innerHTML = '';\n",
              "          dataTable['output_type'] = 'display_data';\n",
              "          await google.colab.output.renderOutput(dataTable, element);\n",
              "          const docLink = document.createElement('div');\n",
              "          docLink.innerHTML = docLinkHtml;\n",
              "          element.appendChild(docLink);\n",
              "        }\n",
              "      </script>\n",
              "    </div>\n",
              "  </div>\n",
              "  "
            ]
          },
          "metadata": {},
          "execution_count": 4
        }
      ]
    },
    {
      "cell_type": "code",
      "source": [
        "# Example using good dataset\n",
        "# df = pd.read_csv('/content/Crop_recommendation.csv')\n",
        "# df = df.drop(['N', 'P', 'K'], axis=1)"
      ],
      "metadata": {
        "id": "8CmzSaAt-6xt"
      },
      "execution_count": 182,
      "outputs": []
    },
    {
      "cell_type": "markdown",
      "source": [
        "# Model Creation | TensorFlow Raw"
      ],
      "metadata": {
        "id": "c9yVSA4jTP32"
      }
    },
    {
      "cell_type": "code",
      "execution_count": 5,
      "metadata": {
        "id": "AnFnIzT1kzvY"
      },
      "outputs": [],
      "source": [
        "import tensorflow as tf\n",
        "from tensorflow.keras import layers\n",
        "import pandas as pd\n",
        "import numpy as np\n",
        "from tensorflow.keras import datasets, layers, models\n",
        "from tensorflow.keras.utils import to_categorical\n",
        "import matplotlib.pyplot as plt"
      ]
    },
    {
      "cell_type": "code",
      "source": [
        "class myCallback(tf.keras.callbacks.Callback):\n",
        "  def on_epoch_end(self, epoch, logs={}):\n",
        "    '''\n",
        "    Halts the training after reaching 60 percent accuracy\n",
        "\n",
        "    Args:\n",
        "      epoch (integer) - index of epoch (required but unused in the function definition below)\n",
        "      logs (dict) - metric results from the training epoch\n",
        "    '''\n",
        "\n",
        "    # Check accuracy\n",
        "    if(logs.get('accuracy') > 0.9):\n",
        "\n",
        "      # Stop if threshold is met\n",
        "      print(\"\\naccuracy is more than 0.8 so cancelling training!\")\n",
        "      self.model.stop_training = True\n",
        "\n",
        "# Instantiate class\n",
        "callbacks = myCallback()"
      ],
      "metadata": {
        "id": "rBTiGNFBFG2z"
      },
      "execution_count": 6,
      "outputs": []
    },
    {
      "cell_type": "code",
      "source": [
        "X = df.iloc[:,0:5].values\n",
        "y = df.iloc[:,5].values"
      ],
      "metadata": {
        "id": "chYQosI7R4J9"
      },
      "execution_count": 7,
      "outputs": []
    },
    {
      "cell_type": "code",
      "source": [
        "print(X[0:5])\n",
        "print(y[0:5])"
      ],
      "metadata": {
        "colab": {
          "base_uri": "https://localhost:8080/"
        },
        "id": "7R6jCOWpR-vm",
        "outputId": "bad6c181-9eb2-4a10-cec3-a23a1bb0194f"
      },
      "execution_count": 8,
      "outputs": [
        {
          "output_type": "stream",
          "name": "stdout",
          "text": [
            "[[ 27.13   2.     1.    56.52 120.57]\n",
            " [ 29.3    2.     1.    50.11 153.08]\n",
            " [ 27.84   2.     1.    55.23 101.82]\n",
            " [ 27.08   2.     1.    57.8  124.5 ]\n",
            " [ 25.51   2.     1.    50.48 160.8 ]]\n",
            "['Bayam Hijau' 'Bayam Hijau' 'Bayam Hijau' 'Bayam Hijau' 'Bayam Hijau']\n"
          ]
        }
      ]
    },
    {
      "cell_type": "code",
      "source": [
        "print(X.shape)\n",
        "print(y.shape)"
      ],
      "metadata": {
        "id": "4Xf53TJ3SLK8",
        "colab": {
          "base_uri": "https://localhost:8080/"
        },
        "outputId": "0221a98b-82bf-4300-836e-52c73741a1a5"
      },
      "execution_count": 9,
      "outputs": [
        {
          "output_type": "stream",
          "name": "stdout",
          "text": [
            "(6000, 5)\n",
            "(6000,)\n"
          ]
        }
      ]
    },
    {
      "cell_type": "code",
      "source": [
        "from sklearn.preprocessing import LabelEncoder\n",
        "encoder =  LabelEncoder()\n",
        "y1 = encoder.fit_transform(y)"
      ],
      "metadata": {
        "id": "Lj2Who3oSMu-"
      },
      "execution_count": 10,
      "outputs": []
    },
    {
      "cell_type": "code",
      "source": [
        "print(y1)"
      ],
      "metadata": {
        "id": "xf_vs3-QSPIV",
        "colab": {
          "base_uri": "https://localhost:8080/"
        },
        "outputId": "bdab41a6-85de-4d4d-a5ca-422ab68af608"
      },
      "execution_count": 11,
      "outputs": [
        {
          "output_type": "stream",
          "name": "stdout",
          "text": [
            "[0 0 0 ... 8 8 8]\n"
          ]
        }
      ]
    },
    {
      "cell_type": "code",
      "source": [
        "Y = pd.get_dummies(y1).values\n",
        "print(Y[0:5])"
      ],
      "metadata": {
        "id": "JSaprB5lSRC6",
        "colab": {
          "base_uri": "https://localhost:8080/"
        },
        "outputId": "c2162d6c-7741-4747-8ee4-7205a6c7938d"
      },
      "execution_count": 12,
      "outputs": [
        {
          "output_type": "stream",
          "name": "stdout",
          "text": [
            "[[1 0 0 0 0 0 0 0 0 0 0 0]\n",
            " [1 0 0 0 0 0 0 0 0 0 0 0]\n",
            " [1 0 0 0 0 0 0 0 0 0 0 0]\n",
            " [1 0 0 0 0 0 0 0 0 0 0 0]\n",
            " [1 0 0 0 0 0 0 0 0 0 0 0]]\n"
          ]
        }
      ]
    },
    {
      "cell_type": "code",
      "source": [
        "from sklearn.model_selection import train_test_split\n",
        "\n",
        "# set aside 20% of train and test data for evaluation\n",
        "X_train, X_test, y_train, y_test = train_test_split(X, Y,\n",
        "    test_size=0.2, shuffle = True, random_state = 8)\n",
        "\n",
        "# Use the same function above for the validation set\n",
        "X_train, X_val, y_train, y_val = train_test_split(X_train, y_train, \n",
        "    test_size=0.25, random_state= 8) # 0.25 x 0.8 = 0.2"
      ],
      "metadata": {
        "id": "sNxZyS-fSTKO"
      },
      "execution_count": 13,
      "outputs": []
    },
    {
      "cell_type": "code",
      "source": [
        "print(X_train[0:5])"
      ],
      "metadata": {
        "id": "rDqZLG76SVtg",
        "colab": {
          "base_uri": "https://localhost:8080/"
        },
        "outputId": "744c4118-f6b9-4f56-f7b5-26185fb958e7"
      },
      "execution_count": 14,
      "outputs": [
        {
          "output_type": "stream",
          "name": "stdout",
          "text": [
            "[[ 27.18   2.     2.    59.28 102.47]\n",
            " [ 31.95   2.     1.    55.57  89.83]\n",
            " [ 27.67   1.     1.    84.86 162.86]\n",
            " [ 20.14   2.     1.    73.84 143.35]\n",
            " [ 21.51   3.     1.    71.2  186.09]]\n"
          ]
        }
      ]
    },
    {
      "cell_type": "code",
      "source": [
        "print(y_train[0:5])"
      ],
      "metadata": {
        "id": "eKJTsFXxSZ_R",
        "colab": {
          "base_uri": "https://localhost:8080/"
        },
        "outputId": "7c1ea02d-2d70-42c0-ca58-98ebc7df7b97"
      },
      "execution_count": 15,
      "outputs": [
        {
          "output_type": "stream",
          "name": "stdout",
          "text": [
            "[[0 1 0 0 0 0 0 0 0 0 0 0]\n",
            " [1 0 0 0 0 0 0 0 0 0 0 0]\n",
            " [0 0 0 0 0 0 0 0 0 0 1 0]\n",
            " [0 0 0 0 0 0 0 1 0 0 0 0]\n",
            " [0 0 0 0 0 0 0 1 0 0 0 0]]\n"
          ]
        }
      ]
    },
    {
      "cell_type": "code",
      "source": [
        "print(X_test[0:5])"
      ],
      "metadata": {
        "id": "WO6FiKmKSbsU",
        "colab": {
          "base_uri": "https://localhost:8080/"
        },
        "outputId": "538c6457-3562-459e-f589-1398b1a2d60d"
      },
      "execution_count": 16,
      "outputs": [
        {
          "output_type": "stream",
          "name": "stdout",
          "text": [
            "[[ 19.85   3.     2.    86.48  66.05]\n",
            " [ 18.72   2.     2.    84.28  77.8 ]\n",
            " [ 24.35   1.     2.    41.01  84.03]\n",
            " [ 20.42   2.     1.    74.77 194.82]\n",
            " [ 29.07   1.     1.    87.18 107.06]]\n"
          ]
        }
      ]
    },
    {
      "cell_type": "code",
      "source": [
        "print(y_test[0:5])"
      ],
      "metadata": {
        "id": "OwMTbCGpSdYX",
        "colab": {
          "base_uri": "https://localhost:8080/"
        },
        "outputId": "4ffe7c55-3470-460f-8e3d-9ec649b70713"
      },
      "execution_count": 17,
      "outputs": [
        {
          "output_type": "stream",
          "name": "stdout",
          "text": [
            "[[0 0 1 0 0 0 0 0 0 0 0 0]\n",
            " [0 0 1 0 0 0 0 0 0 0 0 0]\n",
            " [0 0 0 0 0 0 1 0 0 0 0 0]\n",
            " [0 0 0 0 0 0 0 1 0 0 0 0]\n",
            " [0 0 0 0 0 0 0 0 0 0 1 0]]\n"
          ]
        }
      ]
    },
    {
      "cell_type": "code",
      "source": [
        "model = tf.keras.Sequential([\n",
        "    tf.keras.layers.Dense(128, input_dim=5, activation='relu'),\n",
        "    tf.keras.layers.Dense(64, activation='relu'),\n",
        "    tf.keras.layers.Dense(32, activation='relu'),\n",
        "    tf.keras.layers.Dense(12, activation='softmax')\n",
        "    # tf.keras.layers.Dense(22, activation='softmax') #Example Using good Dataset\n",
        "  ])\n",
        "model"
      ],
      "metadata": {
        "id": "D8LgKJYjSe46",
        "colab": {
          "base_uri": "https://localhost:8080/"
        },
        "outputId": "5a506ee0-48fe-477e-c651-69c75d199426"
      },
      "execution_count": 30,
      "outputs": [
        {
          "output_type": "execute_result",
          "data": {
            "text/plain": [
              "<keras.engine.sequential.Sequential at 0x7f0d39db2350>"
            ]
          },
          "metadata": {},
          "execution_count": 30
        }
      ]
    },
    {
      "cell_type": "code",
      "source": [
        "model.compile(optimizer=tf.keras.optimizers.Adam(learning_rate=0.001),\n",
        "              loss='categorical_crossentropy',\n",
        "              metrics=['accuracy'])"
      ],
      "metadata": {
        "id": "x1oV8kUzSg8C"
      },
      "execution_count": 31,
      "outputs": []
    },
    {
      "cell_type": "code",
      "source": [
        "history = model.fit(X_train, y_train, \n",
        "                    batch_size=50, \n",
        "                    epochs=100, \n",
        "                    validation_data=(X_val, y_val))"
      ],
      "metadata": {
        "id": "qo06yjzISipL",
        "colab": {
          "base_uri": "https://localhost:8080/"
        },
        "outputId": "9aa9ec0d-0e67-4374-f3c4-0439a57dd60e"
      },
      "execution_count": 32,
      "outputs": [
        {
          "output_type": "stream",
          "name": "stdout",
          "text": [
            "Epoch 1/100\n",
            "72/72 [==============================] - 1s 6ms/step - loss: 3.2565 - accuracy: 0.2419 - val_loss: 1.6851 - val_accuracy: 0.3775\n",
            "Epoch 2/100\n",
            "72/72 [==============================] - 0s 3ms/step - loss: 1.4489 - accuracy: 0.4325 - val_loss: 1.2846 - val_accuracy: 0.5242\n",
            "Epoch 3/100\n",
            "72/72 [==============================] - 0s 3ms/step - loss: 1.1553 - accuracy: 0.5558 - val_loss: 1.0758 - val_accuracy: 0.5733\n",
            "Epoch 4/100\n",
            "72/72 [==============================] - 0s 3ms/step - loss: 1.0698 - accuracy: 0.5778 - val_loss: 0.9546 - val_accuracy: 0.6400\n",
            "Epoch 5/100\n",
            "72/72 [==============================] - 0s 4ms/step - loss: 0.9831 - accuracy: 0.6019 - val_loss: 0.9480 - val_accuracy: 0.6225\n",
            "Epoch 6/100\n",
            "72/72 [==============================] - 0s 4ms/step - loss: 0.9210 - accuracy: 0.6269 - val_loss: 0.8775 - val_accuracy: 0.6658\n",
            "Epoch 7/100\n",
            "72/72 [==============================] - 0s 4ms/step - loss: 0.8949 - accuracy: 0.6356 - val_loss: 0.8647 - val_accuracy: 0.6167\n",
            "Epoch 8/100\n",
            "72/72 [==============================] - 0s 3ms/step - loss: 0.9105 - accuracy: 0.6303 - val_loss: 0.8388 - val_accuracy: 0.6508\n",
            "Epoch 9/100\n",
            "72/72 [==============================] - 0s 3ms/step - loss: 0.9212 - accuracy: 0.6125 - val_loss: 0.8219 - val_accuracy: 0.6600\n",
            "Epoch 10/100\n",
            "72/72 [==============================] - 0s 3ms/step - loss: 0.8565 - accuracy: 0.6403 - val_loss: 0.7934 - val_accuracy: 0.6792\n",
            "Epoch 11/100\n",
            "72/72 [==============================] - 0s 3ms/step - loss: 0.8402 - accuracy: 0.6400 - val_loss: 0.8218 - val_accuracy: 0.6583\n",
            "Epoch 12/100\n",
            "72/72 [==============================] - 0s 4ms/step - loss: 0.8442 - accuracy: 0.6383 - val_loss: 0.7823 - val_accuracy: 0.6817\n",
            "Epoch 13/100\n",
            "72/72 [==============================] - 0s 3ms/step - loss: 0.7998 - accuracy: 0.6608 - val_loss: 0.7650 - val_accuracy: 0.6908\n",
            "Epoch 14/100\n",
            "72/72 [==============================] - 0s 3ms/step - loss: 0.7853 - accuracy: 0.6739 - val_loss: 0.7684 - val_accuracy: 0.6933\n",
            "Epoch 15/100\n",
            "72/72 [==============================] - 0s 3ms/step - loss: 0.7749 - accuracy: 0.6714 - val_loss: 0.7633 - val_accuracy: 0.6942\n",
            "Epoch 16/100\n",
            "72/72 [==============================] - 0s 4ms/step - loss: 0.7536 - accuracy: 0.6919 - val_loss: 0.7424 - val_accuracy: 0.6925\n",
            "Epoch 17/100\n",
            "72/72 [==============================] - 0s 3ms/step - loss: 0.7505 - accuracy: 0.6811 - val_loss: 0.7777 - val_accuracy: 0.6525\n",
            "Epoch 18/100\n",
            "72/72 [==============================] - 0s 3ms/step - loss: 0.7487 - accuracy: 0.6881 - val_loss: 0.6843 - val_accuracy: 0.7208\n",
            "Epoch 19/100\n",
            "72/72 [==============================] - 0s 3ms/step - loss: 0.7184 - accuracy: 0.6928 - val_loss: 0.7566 - val_accuracy: 0.6892\n",
            "Epoch 20/100\n",
            "72/72 [==============================] - 0s 3ms/step - loss: 0.7283 - accuracy: 0.7014 - val_loss: 0.6724 - val_accuracy: 0.7150\n",
            "Epoch 21/100\n",
            "72/72 [==============================] - 0s 4ms/step - loss: 0.7009 - accuracy: 0.7003 - val_loss: 0.6962 - val_accuracy: 0.7058\n",
            "Epoch 22/100\n",
            "72/72 [==============================] - 0s 3ms/step - loss: 0.7000 - accuracy: 0.7064 - val_loss: 0.7293 - val_accuracy: 0.7033\n",
            "Epoch 23/100\n",
            "72/72 [==============================] - 0s 4ms/step - loss: 0.6957 - accuracy: 0.7100 - val_loss: 0.7215 - val_accuracy: 0.6942\n",
            "Epoch 24/100\n",
            "72/72 [==============================] - 0s 3ms/step - loss: 0.6857 - accuracy: 0.7147 - val_loss: 0.7277 - val_accuracy: 0.6883\n",
            "Epoch 25/100\n",
            "72/72 [==============================] - 0s 3ms/step - loss: 0.6964 - accuracy: 0.7094 - val_loss: 0.7477 - val_accuracy: 0.6758\n",
            "Epoch 26/100\n",
            "72/72 [==============================] - 0s 3ms/step - loss: 0.6608 - accuracy: 0.7281 - val_loss: 0.6314 - val_accuracy: 0.7358\n",
            "Epoch 27/100\n",
            "72/72 [==============================] - 0s 3ms/step - loss: 0.6487 - accuracy: 0.7256 - val_loss: 0.6730 - val_accuracy: 0.7267\n",
            "Epoch 28/100\n",
            "72/72 [==============================] - 0s 4ms/step - loss: 0.6390 - accuracy: 0.7344 - val_loss: 0.6460 - val_accuracy: 0.7392\n",
            "Epoch 29/100\n",
            "72/72 [==============================] - 0s 3ms/step - loss: 0.6465 - accuracy: 0.7353 - val_loss: 0.6889 - val_accuracy: 0.7192\n",
            "Epoch 30/100\n",
            "72/72 [==============================] - 0s 3ms/step - loss: 0.6527 - accuracy: 0.7342 - val_loss: 0.6432 - val_accuracy: 0.7350\n",
            "Epoch 31/100\n",
            "72/72 [==============================] - 0s 3ms/step - loss: 0.6281 - accuracy: 0.7450 - val_loss: 0.6073 - val_accuracy: 0.7558\n",
            "Epoch 32/100\n",
            "72/72 [==============================] - 0s 3ms/step - loss: 0.6478 - accuracy: 0.7358 - val_loss: 0.7113 - val_accuracy: 0.7392\n",
            "Epoch 33/100\n",
            "72/72 [==============================] - 0s 3ms/step - loss: 0.6217 - accuracy: 0.7469 - val_loss: 0.6312 - val_accuracy: 0.7292\n",
            "Epoch 34/100\n",
            "72/72 [==============================] - 0s 3ms/step - loss: 0.6218 - accuracy: 0.7528 - val_loss: 0.6116 - val_accuracy: 0.7567\n",
            "Epoch 35/100\n",
            "72/72 [==============================] - 0s 3ms/step - loss: 0.6093 - accuracy: 0.7539 - val_loss: 0.6435 - val_accuracy: 0.7658\n",
            "Epoch 36/100\n",
            "72/72 [==============================] - 0s 3ms/step - loss: 0.6118 - accuracy: 0.7511 - val_loss: 0.5870 - val_accuracy: 0.7725\n",
            "Epoch 37/100\n",
            "72/72 [==============================] - 0s 3ms/step - loss: 0.6084 - accuracy: 0.7522 - val_loss: 0.5777 - val_accuracy: 0.7775\n",
            "Epoch 38/100\n",
            "72/72 [==============================] - 0s 3ms/step - loss: 0.5789 - accuracy: 0.7686 - val_loss: 0.5538 - val_accuracy: 0.7767\n",
            "Epoch 39/100\n",
            "72/72 [==============================] - 0s 3ms/step - loss: 0.5935 - accuracy: 0.7600 - val_loss: 0.5470 - val_accuracy: 0.7867\n",
            "Epoch 40/100\n",
            "72/72 [==============================] - 0s 4ms/step - loss: 0.5956 - accuracy: 0.7617 - val_loss: 0.5998 - val_accuracy: 0.7550\n",
            "Epoch 41/100\n",
            "72/72 [==============================] - 0s 4ms/step - loss: 0.5631 - accuracy: 0.7750 - val_loss: 0.5530 - val_accuracy: 0.7817\n",
            "Epoch 42/100\n",
            "72/72 [==============================] - 0s 4ms/step - loss: 0.5485 - accuracy: 0.7931 - val_loss: 0.5538 - val_accuracy: 0.7642\n",
            "Epoch 43/100\n",
            "72/72 [==============================] - 0s 3ms/step - loss: 0.5710 - accuracy: 0.7731 - val_loss: 0.5858 - val_accuracy: 0.7825\n",
            "Epoch 44/100\n",
            "72/72 [==============================] - 0s 3ms/step - loss: 0.5564 - accuracy: 0.7817 - val_loss: 0.5322 - val_accuracy: 0.7858\n",
            "Epoch 45/100\n",
            "72/72 [==============================] - 0s 4ms/step - loss: 0.5965 - accuracy: 0.7647 - val_loss: 0.5789 - val_accuracy: 0.7758\n",
            "Epoch 46/100\n",
            "72/72 [==============================] - 0s 3ms/step - loss: 0.5318 - accuracy: 0.7908 - val_loss: 0.5773 - val_accuracy: 0.7692\n",
            "Epoch 47/100\n",
            "72/72 [==============================] - 0s 3ms/step - loss: 0.5620 - accuracy: 0.7758 - val_loss: 0.5603 - val_accuracy: 0.7792\n",
            "Epoch 48/100\n",
            "72/72 [==============================] - 0s 3ms/step - loss: 0.5681 - accuracy: 0.7733 - val_loss: 0.5625 - val_accuracy: 0.7875\n",
            "Epoch 49/100\n",
            "72/72 [==============================] - 0s 3ms/step - loss: 0.5524 - accuracy: 0.7764 - val_loss: 0.6048 - val_accuracy: 0.7442\n",
            "Epoch 50/100\n",
            "72/72 [==============================] - 0s 4ms/step - loss: 0.5442 - accuracy: 0.7803 - val_loss: 0.5145 - val_accuracy: 0.8008\n",
            "Epoch 51/100\n",
            "72/72 [==============================] - 0s 3ms/step - loss: 0.5316 - accuracy: 0.7819 - val_loss: 0.5348 - val_accuracy: 0.7908\n",
            "Epoch 52/100\n",
            "72/72 [==============================] - 0s 3ms/step - loss: 0.5417 - accuracy: 0.7956 - val_loss: 0.4997 - val_accuracy: 0.8217\n",
            "Epoch 53/100\n",
            "72/72 [==============================] - 0s 3ms/step - loss: 0.5195 - accuracy: 0.7992 - val_loss: 0.6091 - val_accuracy: 0.7558\n",
            "Epoch 54/100\n",
            "72/72 [==============================] - 0s 3ms/step - loss: 0.5519 - accuracy: 0.7792 - val_loss: 0.5410 - val_accuracy: 0.7900\n",
            "Epoch 55/100\n",
            "72/72 [==============================] - 0s 4ms/step - loss: 0.5276 - accuracy: 0.7933 - val_loss: 0.5043 - val_accuracy: 0.8083\n",
            "Epoch 56/100\n",
            "72/72 [==============================] - 0s 3ms/step - loss: 0.5079 - accuracy: 0.8053 - val_loss: 0.4948 - val_accuracy: 0.8150\n",
            "Epoch 57/100\n",
            "72/72 [==============================] - 0s 3ms/step - loss: 0.5267 - accuracy: 0.7986 - val_loss: 0.5517 - val_accuracy: 0.7825\n",
            "Epoch 58/100\n",
            "72/72 [==============================] - 0s 4ms/step - loss: 0.4987 - accuracy: 0.8083 - val_loss: 0.5334 - val_accuracy: 0.7875\n",
            "Epoch 59/100\n",
            "72/72 [==============================] - 0s 3ms/step - loss: 0.4968 - accuracy: 0.8086 - val_loss: 0.5089 - val_accuracy: 0.7933\n",
            "Epoch 60/100\n",
            "72/72 [==============================] - 0s 4ms/step - loss: 0.5302 - accuracy: 0.7944 - val_loss: 0.5550 - val_accuracy: 0.7717\n",
            "Epoch 61/100\n",
            "72/72 [==============================] - 0s 3ms/step - loss: 0.5139 - accuracy: 0.7933 - val_loss: 0.6273 - val_accuracy: 0.7258\n",
            "Epoch 62/100\n",
            "72/72 [==============================] - 0s 4ms/step - loss: 0.4934 - accuracy: 0.8136 - val_loss: 0.5198 - val_accuracy: 0.7967\n",
            "Epoch 63/100\n",
            "72/72 [==============================] - 0s 4ms/step - loss: 0.4782 - accuracy: 0.8181 - val_loss: 0.4666 - val_accuracy: 0.8367\n",
            "Epoch 64/100\n",
            "72/72 [==============================] - 0s 3ms/step - loss: 0.4730 - accuracy: 0.8175 - val_loss: 0.4805 - val_accuracy: 0.8175\n",
            "Epoch 65/100\n",
            "72/72 [==============================] - 0s 3ms/step - loss: 0.4830 - accuracy: 0.8175 - val_loss: 0.4974 - val_accuracy: 0.7983\n",
            "Epoch 66/100\n",
            "72/72 [==============================] - 0s 3ms/step - loss: 0.4669 - accuracy: 0.8158 - val_loss: 0.5043 - val_accuracy: 0.8075\n",
            "Epoch 67/100\n",
            "72/72 [==============================] - 0s 3ms/step - loss: 0.4841 - accuracy: 0.8203 - val_loss: 0.4761 - val_accuracy: 0.8208\n",
            "Epoch 68/100\n",
            "72/72 [==============================] - 0s 3ms/step - loss: 0.4808 - accuracy: 0.8136 - val_loss: 0.4751 - val_accuracy: 0.8442\n",
            "Epoch 69/100\n",
            "72/72 [==============================] - 0s 4ms/step - loss: 0.4531 - accuracy: 0.8247 - val_loss: 0.4772 - val_accuracy: 0.8117\n",
            "Epoch 70/100\n",
            "72/72 [==============================] - 0s 4ms/step - loss: 0.4554 - accuracy: 0.8286 - val_loss: 0.4968 - val_accuracy: 0.8033\n",
            "Epoch 71/100\n",
            "72/72 [==============================] - 0s 3ms/step - loss: 0.5122 - accuracy: 0.8031 - val_loss: 0.4653 - val_accuracy: 0.8267\n",
            "Epoch 72/100\n",
            "72/72 [==============================] - 0s 3ms/step - loss: 0.4568 - accuracy: 0.8156 - val_loss: 0.4851 - val_accuracy: 0.8233\n",
            "Epoch 73/100\n",
            "72/72 [==============================] - 0s 4ms/step - loss: 0.4682 - accuracy: 0.8147 - val_loss: 0.4692 - val_accuracy: 0.8275\n",
            "Epoch 74/100\n",
            "72/72 [==============================] - 0s 3ms/step - loss: 0.4576 - accuracy: 0.8319 - val_loss: 0.5005 - val_accuracy: 0.8008\n",
            "Epoch 75/100\n",
            "72/72 [==============================] - 0s 3ms/step - loss: 0.4485 - accuracy: 0.8358 - val_loss: 0.4489 - val_accuracy: 0.8250\n",
            "Epoch 76/100\n",
            "72/72 [==============================] - 0s 3ms/step - loss: 0.4673 - accuracy: 0.8169 - val_loss: 0.5056 - val_accuracy: 0.7892\n",
            "Epoch 77/100\n",
            "72/72 [==============================] - 0s 3ms/step - loss: 0.4776 - accuracy: 0.8183 - val_loss: 0.5055 - val_accuracy: 0.8150\n",
            "Epoch 78/100\n",
            "72/72 [==============================] - 0s 3ms/step - loss: 0.4770 - accuracy: 0.8142 - val_loss: 0.4749 - val_accuracy: 0.8167\n",
            "Epoch 79/100\n",
            "72/72 [==============================] - 0s 3ms/step - loss: 0.4915 - accuracy: 0.8131 - val_loss: 0.4850 - val_accuracy: 0.8017\n",
            "Epoch 80/100\n",
            "72/72 [==============================] - 0s 3ms/step - loss: 0.4927 - accuracy: 0.8067 - val_loss: 0.4630 - val_accuracy: 0.8308\n",
            "Epoch 81/100\n",
            "72/72 [==============================] - 0s 3ms/step - loss: 0.4414 - accuracy: 0.8333 - val_loss: 0.4957 - val_accuracy: 0.8058\n",
            "Epoch 82/100\n",
            "72/72 [==============================] - 0s 4ms/step - loss: 0.4369 - accuracy: 0.8306 - val_loss: 0.4666 - val_accuracy: 0.8233\n",
            "Epoch 83/100\n",
            "72/72 [==============================] - 0s 3ms/step - loss: 0.4363 - accuracy: 0.8269 - val_loss: 0.4434 - val_accuracy: 0.8417\n",
            "Epoch 84/100\n",
            "72/72 [==============================] - 0s 3ms/step - loss: 0.4504 - accuracy: 0.8289 - val_loss: 0.4680 - val_accuracy: 0.8208\n",
            "Epoch 85/100\n",
            "72/72 [==============================] - 0s 3ms/step - loss: 0.4527 - accuracy: 0.8208 - val_loss: 0.5055 - val_accuracy: 0.8092\n",
            "Epoch 86/100\n",
            "72/72 [==============================] - 0s 3ms/step - loss: 0.4552 - accuracy: 0.8269 - val_loss: 0.4430 - val_accuracy: 0.8242\n",
            "Epoch 87/100\n",
            "72/72 [==============================] - 0s 4ms/step - loss: 0.4159 - accuracy: 0.8381 - val_loss: 0.4283 - val_accuracy: 0.8350\n",
            "Epoch 88/100\n",
            "72/72 [==============================] - 0s 4ms/step - loss: 0.4136 - accuracy: 0.8442 - val_loss: 0.4835 - val_accuracy: 0.8100\n",
            "Epoch 89/100\n",
            "72/72 [==============================] - 0s 4ms/step - loss: 0.4353 - accuracy: 0.8286 - val_loss: 0.5091 - val_accuracy: 0.7933\n",
            "Epoch 90/100\n",
            "72/72 [==============================] - 0s 3ms/step - loss: 0.4180 - accuracy: 0.8408 - val_loss: 0.4643 - val_accuracy: 0.8175\n",
            "Epoch 91/100\n",
            "72/72 [==============================] - 0s 3ms/step - loss: 0.4580 - accuracy: 0.8197 - val_loss: 0.4405 - val_accuracy: 0.8367\n",
            "Epoch 92/100\n",
            "72/72 [==============================] - 0s 4ms/step - loss: 0.4385 - accuracy: 0.8292 - val_loss: 0.4976 - val_accuracy: 0.8050\n",
            "Epoch 93/100\n",
            "72/72 [==============================] - 0s 3ms/step - loss: 0.4239 - accuracy: 0.8372 - val_loss: 0.4479 - val_accuracy: 0.8342\n",
            "Epoch 94/100\n",
            "72/72 [==============================] - 0s 3ms/step - loss: 0.4266 - accuracy: 0.8381 - val_loss: 0.4499 - val_accuracy: 0.8283\n",
            "Epoch 95/100\n",
            "72/72 [==============================] - 0s 3ms/step - loss: 0.4193 - accuracy: 0.8361 - val_loss: 0.4519 - val_accuracy: 0.8283\n",
            "Epoch 96/100\n",
            "72/72 [==============================] - 0s 3ms/step - loss: 0.4165 - accuracy: 0.8431 - val_loss: 0.4665 - val_accuracy: 0.8292\n",
            "Epoch 97/100\n",
            "72/72 [==============================] - 0s 4ms/step - loss: 0.3998 - accuracy: 0.8456 - val_loss: 0.4243 - val_accuracy: 0.8317\n",
            "Epoch 98/100\n",
            "72/72 [==============================] - 0s 4ms/step - loss: 0.4156 - accuracy: 0.8375 - val_loss: 0.4487 - val_accuracy: 0.8275\n",
            "Epoch 99/100\n",
            "72/72 [==============================] - 0s 3ms/step - loss: 0.4195 - accuracy: 0.8425 - val_loss: 0.6328 - val_accuracy: 0.7367\n",
            "Epoch 100/100\n",
            "72/72 [==============================] - 0s 3ms/step - loss: 0.4663 - accuracy: 0.8192 - val_loss: 0.4616 - val_accuracy: 0.8175\n"
          ]
        }
      ]
    },
    {
      "cell_type": "code",
      "source": [
        "loss, accuracy = model.evaluate(X_test, y_test, verbose=0)\n",
        "print('Test loss:', loss)\n",
        "print('Test accuracy:', accuracy)"
      ],
      "metadata": {
        "id": "rCEsefOLSku0",
        "colab": {
          "base_uri": "https://localhost:8080/"
        },
        "outputId": "9a2b3246-378a-42cd-cc9d-9e4ab406460e"
      },
      "execution_count": 33,
      "outputs": [
        {
          "output_type": "stream",
          "name": "stdout",
          "text": [
            "Test loss: 0.47189971804618835\n",
            "Test accuracy: 0.8199999928474426\n"
          ]
        }
      ]
    },
    {
      "cell_type": "code",
      "source": [
        "#-----------------------------------------------------------\n",
        "# Retrieve a list of list results on training and test data\n",
        "# sets for each training epoch\n",
        "#-----------------------------------------------------------\n",
        "acc      = history.history['accuracy']\n",
        "val_acc  = history.history['val_accuracy']\n",
        "loss     = history.history['loss']\n",
        "val_loss = history.history['val_loss']\n",
        "\n",
        "epochs   = range(len(acc)) # Get number of epochs\n",
        "\n",
        "#------------------------------------------------\n",
        "# Plot training and validation accuracy per epoch\n",
        "#------------------------------------------------\n",
        "plt.plot  (epochs, acc)\n",
        "plt.plot  (epochs, val_acc)\n",
        "plt.title ('Training and validation accuracy')\n",
        "plt.figure()\n",
        "\n",
        "#------------------------------------------------\n",
        "# Plot training and validation loss per epoch\n",
        "#------------------------------------------------\n",
        "plt.plot  (epochs, loss)\n",
        "plt.plot  (epochs, val_loss)\n",
        "plt.title ('Training and validation loss')"
      ],
      "metadata": {
        "colab": {
          "base_uri": "https://localhost:8080/",
          "height": 562
        },
        "id": "Uqt8HA-CqFRx",
        "outputId": "9d78401f-cb95-4d01-ea4b-6410bd46f128"
      },
      "execution_count": 34,
      "outputs": [
        {
          "output_type": "execute_result",
          "data": {
            "text/plain": [
              "Text(0.5, 1.0, 'Training and validation loss')"
            ]
          },
          "metadata": {},
          "execution_count": 34
        },
        {
          "output_type": "display_data",
          "data": {
            "text/plain": [
              "<Figure size 432x288 with 1 Axes>"
            ],
            "image/png": "[encoded data removed]"
          },
          "metadata": {
            "needs_background": "light"
          }
        },
        {
          "output_type": "display_data",
          "data": {
            "text/plain": [
              "<Figure size 432x288 with 1 Axes>"
            ],
            "image/png": "[encoded data removed]"
          },
          "metadata": {
            "needs_background": "light"
          }
        }
      ]
    },
    {
      "cell_type": "code",
      "source": [
        "y_pred = model.predict(X_test)\n",
        "y_pred"
      ],
      "metadata": {
        "id": "-TMHOoQNS3QQ",
        "colab": {
          "base_uri": "https://localhost:8080/"
        },
        "outputId": "820141a6-c957-46e0-c707-9d55d5f8d0ae"
      },
      "execution_count": 35,
      "outputs": [
        {
          "output_type": "execute_result",
          "data": {
            "text/plain": [
              "array([[1.9747534e-07, 2.0645595e-04, 9.9945515e-01, ..., 3.7715775e-13,\n",
              "        1.0418740e-13, 8.1587887e-06],\n",
              "       [3.3743902e-07, 1.3857223e-04, 9.9977893e-01, ..., 1.6989202e-12,\n",
              "        1.3265411e-13, 4.4649045e-05],\n",
              "       [8.6814600e-09, 7.2295748e-04, 4.0003791e-15, ..., 5.2184185e-13,\n",
              "        1.7196904e-28, 1.8537700e-13],\n",
              "       ...,\n",
              "       [4.1338024e-01, 1.4505021e-01, 5.7463326e-06, ..., 1.4821257e-08,\n",
              "        1.5969974e-06, 3.3444014e-01],\n",
              "       [3.0970073e-06, 6.9439605e-02, 7.0511508e-14, ..., 6.4881653e-01,\n",
              "        7.3304439e-21, 5.8059337e-05],\n",
              "       [1.8637838e-08, 3.5575114e-05, 9.9979860e-01, ..., 6.8149987e-14,\n",
              "        6.4068839e-15, 5.4834636e-08]], dtype=float32)"
            ]
          },
          "metadata": {},
          "execution_count": 35
        }
      ]
    },
    {
      "cell_type": "code",
      "source": [
        "actual = np.argmax(y_test,axis=1)\n",
        "predicted = np.argsort(y_pred,axis=1)\n",
        "print(f\"Actual: {encoder.inverse_transform(actual[:1])}\\nPredicted: \")\n",
        "for top_5 in predicted[:1,7:]:\n",
        "  top_5 = encoder.inverse_transform(top_5)\n",
        "  i = 1\n",
        "  for name in top_5[::-1]:\n",
        "    print(f\"{i}. {name}\")\n",
        "    i += 1"
      ],
      "metadata": {
        "id": "LTKo0gpfTFfg",
        "colab": {
          "base_uri": "https://localhost:8080/"
        },
        "outputId": "99bd28b3-1d21-4561-8aaa-2acd14018336"
      },
      "execution_count": 36,
      "outputs": [
        {
          "output_type": "stream",
          "name": "stdout",
          "text": [
            "Actual: ['Kubis']\n",
            "Predicted: \n",
            "1. Kubis\n",
            "2. Lavender\n",
            "3. Kangkung\n",
            "4. Tomat\n",
            "5. Bayam Hijau\n"
          ]
        }
      ]
    },
    {
      "cell_type": "code",
      "source": [
        "input = model.predict([[temp, 1, 1, humidity, precipitation]])\n",
        "output = np.argsort(input, axis=1)[:,7:].flatten()\n",
        "print(encoder.inverse_transform(output))"
      ],
      "metadata": {
        "colab": {
          "base_uri": "https://localhost:8080/"
        },
        "id": "gX6i9CvMiedh",
        "outputId": "cdbd4e47-c502-4e9e-8870-eb8fc49cdc6f"
      },
      "execution_count": 39,
      "outputs": [
        {
          "output_type": "stream",
          "name": "stdout",
          "text": [
            "['Kuping Gajah' 'Bayam Hijau' 'Tomat' 'Lavender' 'Kangkung']\n"
          ]
        }
      ]
    },
    {
      "cell_type": "markdown",
      "source": [
        "# Model Creation | LightGBM"
      ],
      "metadata": {
        "id": "F-N-y_41gBQk"
      }
    },
    {
      "cell_type": "code",
      "source": [
        "import pandas as pd\n",
        "import numpy as np"
      ],
      "metadata": {
        "id": "_2vVKRV2gQcY"
      },
      "execution_count": null,
      "outputs": []
    },
    {
      "cell_type": "code",
      "source": [
        "X = df.iloc[:,0:4].values\n",
        "y = df.iloc[:,4].values"
      ],
      "metadata": {
        "id": "NKSjWDUUgWDP"
      },
      "execution_count": null,
      "outputs": []
    },
    {
      "cell_type": "code",
      "source": [
        "from sklearn.model_selection import train_test_split\n",
        "\n",
        "# set aside 20% of train and test data for evaluation\n",
        "X_train, X_test, y_train, y_test = train_test_split(X, y, test_size=0.2, shuffle = True, random_state = 8)"
      ],
      "metadata": {
        "id": "0YtGH5CkgnNh"
      },
      "execution_count": null,
      "outputs": []
    },
    {
      "cell_type": "code",
      "source": [
        "# Creating a lightgbm model\n",
        "import lightgbm as lgb\n",
        "\n",
        "model = lgb.LGBMClassifier()\n",
        "\n",
        "# Training the model using Training Data\n",
        "model.fit(X_train, y_train)"
      ],
      "metadata": {
        "colab": {
          "base_uri": "https://localhost:8080/"
        },
        "id": "CqKUa4dUguSG",
        "outputId": "41983215-e8da-4e5b-941f-04a0290577c2"
      },
      "execution_count": null,
      "outputs": [
        {
          "output_type": "execute_result",
          "data": {
            "text/plain": [
              "LGBMClassifier()"
            ]
          },
          "metadata": {},
          "execution_count": 112
        }
      ]
    },
    {
      "cell_type": "code",
      "source": [
        "# Predicting the outputs over testing data\n",
        "y_pred=model.predict(X_test)\n"
      ],
      "metadata": {
        "id": "hD5bZ3hegu32"
      },
      "execution_count": null,
      "outputs": []
    },
    {
      "cell_type": "code",
      "source": [
        "# Library to measure accuracy of model\n",
        "from sklearn.metrics import accuracy_score\n",
        "\n",
        "# Find accuracy on Expected Output and Predicted Output on Testing Data\n",
        "accuracy=accuracy_score(y_pred, y_test)\n",
        "print('LightGBM Model accuracy score: {0:0.4f}'.format(accuracy_score(y_test, y_pred)))"
      ],
      "metadata": {
        "colab": {
          "base_uri": "https://localhost:8080/"
        },
        "id": "TJSGdISMgxnp",
        "outputId": "23a796e1-1c20-44f1-db76-d4741371c630"
      },
      "execution_count": null,
      "outputs": [
        {
          "output_type": "stream",
          "name": "stdout",
          "text": [
            "LightGBM Model accuracy score: 0.6725\n"
          ]
        }
      ]
    },
    {
      "cell_type": "code",
      "source": [
        "# Find Training Score on Expected Output and Predicted Output on Training Data\n",
        "y_pred_train = model.predict(X_train)\n",
        "print('Training-set accuracy score: {0:0.4f}'. format(accuracy_score(y_train, y_pred_train)))"
      ],
      "metadata": {
        "colab": {
          "base_uri": "https://localhost:8080/"
        },
        "id": "p8enDKW0hB4H",
        "outputId": "aca88dd2-8293-4262-8b6e-9c37936aadba"
      },
      "execution_count": null,
      "outputs": [
        {
          "output_type": "stream",
          "name": "stdout",
          "text": [
            "Training-set accuracy score: 0.9175\n"
          ]
        }
      ]
    }
  ]
}