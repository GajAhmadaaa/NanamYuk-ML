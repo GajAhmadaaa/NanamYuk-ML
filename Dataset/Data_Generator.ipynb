{
  "nbformat": 4,
  "nbformat_minor": 0,
  "metadata": {
    "colab": {
      "name": "Data-Generator.ipynb",
      "provenance": [],
      "authorship_tag": "ABX9TyOBmxhvt3nzfefMfq46pYKW",
      "include_colab_link": true
    },
    "kernelspec": {
      "name": "python3",
      "display_name": "Python 3"
    },
    "language_info": {
      "name": "python"
    }
  },
  "cells": [
    {
      "cell_type": "markdown",
      "metadata": {
        "id": "view-in-github",
        "colab_type": "text"
      },
      "source": [
        "<a href=\"https://colab.research.google.com/github/GajAhmadaaa/NanamYuk-ML/blob/main/Data_Generator.ipynb\" target=\"_parent\"><img src=\"https://colab.research.google.com/assets/colab-badge.svg\" alt=\"Open In Colab\"/></a>"
      ]
    },
    {
      "cell_type": "code",
      "execution_count": null,
      "metadata": {
        "id": "jGFcnUWsCXam"
      },
      "outputs": [],
      "source": [
        "import pandas as pd\n",
        "import numpy as np\n",
        "\n",
        "np.random.seed(0)\n",
        "data1 =pd.DataFrame({\"Temperature\" : np.random.uniform(20, 33, 500).round(2),\n",
        "                     \"Soil\" : np.random.choice(range(1,4), p=[0.2, 0.6, 0.2], size=500, replace=True),\n",
        "                     \"Light\" : np.random.choice(range(1,2), 500, replace=True),\n",
        "                     \"Humid\" : np.random.uniform(50, 61, 500).round(2),\n",
        "                     \"Rainfall\" : np.random.uniform(83.33, 166.67, 500).round(2),\n",
        "                     \"Label\"  : \"Bayam Hijau\"})\n",
        "data2 =pd.DataFrame({\"Temperature\" : np.random.uniform(20,28, 500).round(2),\n",
        "                     \"Soil\" : np.random.choice(range(1,4), p=[0.2, 0.6, 0.2], size=500, replace=True),\n",
        "                     \"Light\" : np.random.choice(range(1,2), 500, replace=True),\n",
        "                     \"Humid\" : np.random.uniform(60, 81, 500).round(2),\n",
        "                     \"Rainfall\" : np.random.uniform(62.50, 104.17, 500).round(2),\n",
        "                     \"Label\"  : \"Tomat\"})\n",
        "data3 =pd.DataFrame({\"Temperature\" : np.random.uniform(25,30, 500).round(2),\n",
        "                     \"Soil\" : np.random.choice(range(1,4), p=[0.2, 0.6, 0.2], size=500, replace=True),\n",
        "                     \"Light\" : np.random.choice(range(1,3), 500, replace=True),\n",
        "                     \"Humid\" : np.random.uniform(50, 81 , 500).round(2),\n",
        "                     \"Rainfall\" : np.random.uniform(41.67, 416.67 , 500).round(2),\n",
        "                     \"Label\"  : \"Kangkung\"})\n",
        "data4 =pd.DataFrame({\"Temperature\" : np.random.uniform(22,30, 500).round(2),\n",
        "                     \"Soil\" : np.random.choice(range(1,4), p=[0.2, 0.6, 0.2], size=500, replace=True),\n",
        "                     \"Light\" : np.random.choice(range(1,2), 500, replace=True),\n",
        "                     \"Humid\" : np.random.uniform(80, 91, 500).round(2),\n",
        "                     \"Rainfall\" : np.random.uniform(104.17, 208.33, 500).round(2),\n",
        "                     \"Label\"  : \"Terung\"})\n",
        "data5 =pd.DataFrame({\"Temperature\" : np.random.uniform(18,20, 500).round(2),\n",
        "                     \"Soil\" : np.random.choice(range(1,4), p=[0.2, 0.6, 0.2], size=500, replace=True),\n",
        "                     \"Light\" : np.random.choice(range(1,3), 500, replace=True),\n",
        "                     \"Humid\" : np.random.uniform(80, 91, 500).round(2),\n",
        "                     \"Rainfall\" : np.random.uniform(41.67, 83.33, 500).round(2),\n",
        "                     \"Label\"  : \"Kubis\"})\n",
        "data6 =pd.DataFrame({\"Temperature\" : np.random.uniform(21,32, 500).round(2),\n",
        "                     \"Soil\" : np.random.choice(range(1,4), p=[0.6, 0.2, 0.2], size=500, replace=True),\n",
        "                     \"Light\" : np.random.choice(range(2,3), 500, replace=True),\n",
        "                     \"Humid\" : np.random.uniform(30, 51, 500).round(2),\n",
        "                     \"Rainfall\" : np.random.uniform(58.33, 116.67, 500).round(2),\n",
        "                     \"Label\"  : \"Lidah Mertua\"})\n",
        "data7 =pd.DataFrame({\"Temperature\" : np.random.uniform(23,30, 500).round(2),\n",
        "                     \"Soil\" : np.random.choice(range(1,4), p=[0.4, 0.5, 0.1], size=500, replace=True),\n",
        "                     \"Light\" : np.random.choice(range(2,3), 500, replace=True),\n",
        "                     \"Humid\" : np.random.uniform(50, 61, 500).round(2),\n",
        "                     \"Rainfall\" : np.random.uniform(233.33, 266.67, 500).round(2),\n",
        "                     \"Label\"  : \"Sri Rezeki\"})\n",
        "data8 =pd.DataFrame({\"Temperature\" : np.random.uniform(20,33, 500).round(2),\n",
        "                     \"Soil\" : np.random.choice(range(1,4), p=[0.6, 0.2, 0.2], size=500, replace=True),\n",
        "                     \"Light\" : np.random.choice(range(1,3), 500, replace=True),\n",
        "                     \"Humid\" : np.random.uniform(35, 46, 500).round(2),\n",
        "                     \"Rainfall\" : np.random.uniform(83.33, 250.00, 500).round(2),\n",
        "                     \"Label\"  : \"Lidah Buaya\"})\n",
        "data9 =pd.DataFrame({\"Temperature\" : np.random.uniform(18,31, 500).round(2),\n",
        "                     \"Soil\" : np.random.choice(range(1,4), p=[0.6, 0.2, 0.2], size=500, replace=True),\n",
        "                     \"Light\" : np.random.choice(range(1,3), 500, replace=True),\n",
        "                     \"Humid\" : np.random.uniform(50, 71, 500).round(2),\n",
        "                     \"Rainfall\" : np.random.uniform(233.33, 266.67, 500).round(2),\n",
        "                     \"Label\"  : \"Kuping Gajah\"})\n",
        "data10 =pd.DataFrame({\"Temperature\" : np.random.uniform(16,32, 500).round(2),\n",
        "                     \"Soil\" : np.random.choice(range(1,4), p=[0.6, 0.2, 0.2], size=500, replace=True),\n",
        "                     \"Light\" : np.random.choice(range(1,2), 500, replace=True),\n",
        "                     \"Humid\" : np.random.uniform(80, 96, 500).round(2),\n",
        "                     \"Rainfall\" : np.random.uniform(25.00, 116.67, 500).round(2),\n",
        "                     \"Label\"  : \"Lavender\"})\n",
        "data11 =pd.DataFrame({\"Temperature\" : np.random.uniform(16,30, 500).round(2),\n",
        "                     \"Soil\" : np.random.choice(range(1,4), p=[0.3, 0.3, 0.4], size=500, replace=True),\n",
        "                     \"Light\" : np.random.choice(range(1,2), 500, replace=True),\n",
        "                     \"Humid\" : np.random.uniform(70, 81, 500).round(2),\n",
        "                     \"Rainfall\" : np.random.uniform(125.00, 250.00, 500).round(2),\n",
        "                     \"Label\"  : \"Mawar\"})\n",
        "data12 =pd.DataFrame({\"Temperature\" : np.random.uniform(24,36, 500).round(2),\n",
        "                     \"Soil\" : np.random.choice(range(1,4), p=[0.4, 0.2, 0.4], size=500, replace=True),\n",
        "                     \"Light\" : np.random.choice(range(1,2), 500, replace=True),\n",
        "                     \"Humid\" : np.random.uniform(50, 81, 500).round(2),\n",
        "                     \"Rainfall\" : np.random.uniform(100.00, 119.00, 500).round(2),\n",
        "                     \"Label\"  : \"Melati\"})"
      ]
    },
    {
      "cell_type": "code",
      "source": [
        "df = data1.append(data2, ignore_index=True).append(data3, ignore_index=True).append(data4, ignore_index=True).append(data5, ignore_index=True)\\\n",
        "          .append(data6, ignore_index=True).append(data7, ignore_index=True).append(data8, ignore_index=True).append(data9, ignore_index=True)\\\n",
        "          .append(data10, ignore_index=True).append(data11, ignore_index=True).append(data12, ignore_index=True)\n",
        "df"
      ],
      "metadata": {
        "id": "vSeHFl48CkOu"
      },
      "execution_count": null,
      "outputs": []
    },
    {
      "cell_type": "code",
      "source": [
        "from google.colab import drive\n",
        "drive.mount('/content/drive')"
      ],
      "metadata": {
        "id": "mIaVT6qJCoBm"
      },
      "execution_count": null,
      "outputs": []
    },
    {
      "cell_type": "code",
      "source": [
        "path = '/content/drive/My Drive/Product Based Capstone/dataset.csv'\n",
        "\n",
        "with open(path, 'w', encoding = 'utf-8-sig') as f:\n",
        "  df.to_csv(f, index=False)"
      ],
      "metadata": {
        "id": "CRybxTcZCpSW"
      },
      "execution_count": null,
      "outputs": []
    }
  ]
}