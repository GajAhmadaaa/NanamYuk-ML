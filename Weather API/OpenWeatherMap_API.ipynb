{
 "cells": [
  {
   "cell_type": "markdown",
   "metadata": {
    "id": "3hWsdMSWy203"
   },
   "source": [
    "## Raw City Based Weather Analysis"
   ]
  },
  {
   "cell_type": "code",
   "execution_count": null,
   "metadata": {
    "colab": {
     "base_uri": "https://localhost:8080/"
    },
    "id": "fam5io_64MMA",
    "outputId": "eed75f09-f595-4aca-f07c-70a21b91ccb4"
   },
   "outputs": [
    {
     "name": "stdout",
     "output_type": "stream",
     "text": [
      "Please Enter The City Name : jakarta\n",
      "City Name : jakarta\n",
      "The Weather Condition is broken clouds\n",
      "The temperature is 24.55 Celsius\n",
      "The pressure is 1009hPa\n",
      "The humidity is 93%\n",
      "The speed of wind is 1.73m/s\n",
      "http://api.openweathermap.org/data/2.5/weather?appid=81c713c1b0fea513c62681c97920daa9&q=jakarta\n"
     ]
    }
   ],
   "source": [
    "# importing the required libraries\n",
    "import requests\n",
    "# Enter the api key of openweathermap here\n",
    "api_key = \"API_KEY\"\n",
    "# Base url for the open map api\n",
    "root_url = \"http://api.openweathermap.org/data/2.5/weather?\"\n",
    "# Input the City name for which we need the weather data\n",
    "city_name = input(\"Please Enter The City Name : \")\n",
    "# Building the final url for the API call\n",
    "url = f\"{root_url}appid={api_key}&q={city_name}\"\n",
    "# sending a get request at the url\n",
    "r = requests.get(url)\n",
    "# storing the returned json data into a variable\n",
    "data = r.json()\n",
    "# Checking If there is no error and the status code is 200\n",
    "if data['cod'] == 200:\n",
    "    # getting the temperature from the json data\n",
    "    temp = data['main']['temp'] - 273.15\n",
    "    # getting the pressure from the json data\n",
    "    pressure = data['main']['pressure']\n",
    "    # getting the humidity from the json data\n",
    "    humidity = data['main']['humidity']\n",
    "    # getting the description from the json data\n",
    "    descr = data['weather'][0]['description']\n",
    "    # getting the wind speed from the json data\n",
    "    wind = data['wind']['speed']\n",
    "    # Displaying all the data\n",
    "    print(f\"City Name : {city_name}\")\n",
    "    print(f\"The Weather Condition is {descr}\")\n",
    "    print(f\"The temperature is {temp :.2f} Celsius\")\n",
    "    print(f\"The pressure is {pressure}hPa\")\n",
    "    print(f\"The humidity is {humidity}%\")\n",
    "    print(f\"The speed of wind is {wind}m/s\")\n",
    "    print(url)\n",
    "else:\n",
    "    # If any error occured then print this\n",
    "    print(\"gaada nama kota\", url)"
   ]
  },
  {
   "cell_type": "markdown",
   "metadata": {
    "id": "eal56-rfJ1vR"
   },
   "source": [
    "## Improved City Based Weather Analysis but just avg Temp within month"
   ]
  },
  {
   "cell_type": "code",
   "execution_count": null,
   "metadata": {
    "id": "eUp-c3UeJ2Z5"
   },
   "outputs": [],
   "source": [
    "import requests\n",
    "from datetime import datetime\n",
    "today = datetime.today()\n",
    "\n",
    "api_key = \"API_KEY\"\n",
    "\n",
    "root_url = \"https://history.openweathermap.org/data/2.5/aggregated/month?\"\n",
    "\n",
    "city_name = input(\"Please Enter The City Name : \")\n",
    "\n",
    "url = f\"{root_url}month={today.month}&q={city_name},ID&appid={api_key}\"\n",
    "\n",
    "r = requests.get(url)\n",
    "\n",
    "data = r.json()\n",
    "# Checking If there is no error and the status code is 200\n",
    "if data['cod'] == 200:\n",
    "    # getting the temperature from the json data\n",
    "    temp = data['result']['temp']['mean'] - 273.15\n",
    "    # getting the humidity from the json data\n",
    "    humidity = data['result']['humidity']['mean']\n",
    "    # getting the month from the json data\n",
    "    month = data['result']['month']\n",
    "    print(f\"City Name : {city_name}\")\n",
    "    print(f\"The avg temperature in month {month} is {temp :.2f} Celsius\")\n",
    "    print(f\"The avg humidity in month {month} is {humidity :.2f} %\")\n",
    "    print(url)\n",
    "else:\n",
    "    message = data['message']\n",
    "    print(\"Something Went Wrong,\", message)"
   ]
  },
  {
   "cell_type": "markdown",
   "metadata": {
    "id": "feKfWLnrav3a"
   },
   "source": [
    "## Error handling with try except implementation"
   ]
  },
  {
   "cell_type": "code",
   "execution_count": null,
   "metadata": {
    "id": "Ku4USNSVauS2"
   },
   "outputs": [],
   "source": [
    "import requests\n",
    "from datetime import datetime\n",
    "today = datetime.today()\n",
    "\n",
    "api_key = \"API_KEY\"\n",
    "\n",
    "root_url = \"https://history.openweathermap.org/data/2.5/aggregated/month?\"\n",
    "\n",
    "city_name = \"Riau\" #input(\"Please Enter The City Name : \")\n",
    "\n",
    "url = f\"{root_url}month={today.month}&q={city_name},ID&appid={api_key}\"\n",
    "\n",
    "r = requests.get(url)\n",
    "\n",
    "data = r.json()\n",
    "# Checking If there is no error and the status code is 200\n",
    "try:\n",
    "  if data['cod'] == 200:\n",
    "      # getting the temperature from the json data\n",
    "      temp = data['result']['temp']['mean'] - 273.15\n",
    "      month = data['result']['month']\n",
    "      print(f\"City Name : {city_name}\")\n",
    "      print(f\"The avg temperature in month {month} is {temp :.2f} Celsius\")\n",
    "      print(url)\n",
    "  else:\n",
    "      message = data['message']\n",
    "      print(\"Something Went Wrong,\", message)\n",
    "except:\n",
    "  message = data['message']\n",
    "  print(\"error,\", message)"
   ]
  },
  {
   "cell_type": "markdown",
   "metadata": {
    "id": "D_IU3pEzJuaI"
   },
   "source": [
    "## Enhanced Error handling with try except for location that has no weather history data"
   ]
  },
  {
   "cell_type": "code",
   "execution_count": null,
   "metadata": {
    "colab": {
     "base_uri": "https://localhost:8080/"
    },
    "id": "fARZC3faJs4z",
    "outputId": "65ee2847-671d-4367-a72f-1def67cd6322"
   },
   "outputs": [
    {
     "name": "stdout",
     "output_type": "stream",
     "text": [
      "Please Enter The City Name : p\n",
      "Something Went Wrong, Error\n"
     ]
    }
   ],
   "source": [
    "import requests\n",
    "from datetime import datetime\n",
    "today = datetime.today()\n",
    "\n",
    "api_key = \"API_KEY\"\n",
    "city_name = input(\"Please Enter The City Name : \")\n",
    "\n",
    "###########################################################################\n",
    "# Bisa dijadikan Function #\n",
    "root_url = \"https://history.openweathermap.org/data/2.5/aggregated/month?\"\n",
    "url = f\"{root_url}month={today.month}&q={city_name},ID&appid={api_key}\"\n",
    "r = requests.get(url)\n",
    "data = r.json()\n",
    "\n",
    "root_url2 = \"https://api.openweathermap.org/data/2.5/weather?\"\n",
    "url2 = f\"{root_url2}q={city_name}&appid={api_key}\"\n",
    "r2 = requests.get(url2)\n",
    "data2 = r2.json()\n",
    "############################################################################\n",
    "\n",
    "# Checking If there is no error and the status code is 200\n",
    "try:\n",
    "  if data['cod'] == 200:\n",
    "      # getting the temperature from the json data\n",
    "      temp = data['result']['temp']['mean'] - 273.15\n",
    "      # getting the humidity from the json data\n",
    "      humidity = data['result']['humidity']['mean']\n",
    "      # getting the month from the json data\n",
    "      month = data['result']['month']\n",
    "      print(f\"City Name : {city_name}\")\n",
    "      print(f\"The avg temperature in month {month} is {temp :.2f} Celsius\")\n",
    "      print(f\"The avg humidity in month {month} is {humidity :.2f} %\")\n",
    "      print(url)\n",
    "  else:\n",
    "      message = data['message']\n",
    "      print(\"Something Went Wrong,\", message)\n",
    "except:\n",
    "  if data['code'] == 404000:\n",
    "      message = data['message']\n",
    "      print(f\"Error, {message}. Switching to current weather....\")\n",
    "      \n",
    "      # getting the temperature from the json data\n",
    "      temp = data2['main']['temp'] - 273.15\n",
    "      # getting the humidity from the json data\n",
    "      humidity = data2['main']['humidity']\n",
    "      print(f\"City Name : {city_name}\")\n",
    "      print(f\"The current temperature is {temp :.2f} Celsius\")\n",
    "      print(f\"The current humidity is {humidity :.2f} %\")\n",
    "      print(url2)"
   ]
  },
  {
   "cell_type": "markdown",
   "metadata": {
    "id": "4PwqNh1XuTXg"
   },
   "source": [
    "## Make it as function"
   ]
  },
  {
   "cell_type": "code",
   "execution_count": null,
   "metadata": {
    "id": "xRx6KtCfBdjh"
   },
   "outputs": [],
   "source": [
    "import requests\n",
    "from datetime import datetime\n",
    "today = datetime.today()\n",
    "\n",
    "api_key = \"API_KEY\"\n",
    "\n",
    "def root_url(url_param, city_name, api_key):\n",
    "    root_url = [\"https://history.openweathermap.org/data/2.5/aggregated/month?\", \"https://api.openweathermap.org/data/2.5/weather?\"]\n",
    "    root_url = root_url[url_param]\n",
    "    url = [f\"{root_url}month={today.month}&q={city_name},ID&appid={api_key}\", f\"{root_url}q={city_name},ID&appid={api_key}\"]\n",
    "    url = url[url_param]\n",
    "    r = requests.get(url)\n",
    "    data = r.json()\n",
    "    return r, data\n",
    "\n",
    "def weather(city_name):\n",
    "    r, data = root_url(0, city_name, api_key)\n",
    "    # Checking If there is no error and the status code is 200\n",
    "    try:\n",
    "      if data['cod'] == 200:\n",
    "          # getting the temperature from the json data\n",
    "          temp = data['result']['temp']['mean'] - 273.15\n",
    "          # getting the humidity from the json data\n",
    "          humidity = data['result']['humidity']['mean']\n",
    "          # getting the month from the json data\n",
    "          month = data['result']['month']\n",
    "          print(\"success\")\n",
    "      elif data['cod'] != 200:\n",
    "          message = data['message']\n",
    "          print(\"Nama kota tidak ada,\", message)\n",
    "    except:\n",
    "      if data['code'] == 404000:\n",
    "          message = data['message']\n",
    "          print(f\"Error, {message}. Switching to current weather....\")\n",
    "          r, data = root_url(1, city_name, api_key)\n",
    "          # getting the temperature from the json data\n",
    "          temp = data['main']['temp'] - 273.15\n",
    "          # getting the humidity from the json data\n",
    "          humidity = data['main']['humidity']\n",
    "          #print(url)\n",
    "    \n",
    "    return round(temp, 2), humidity"
   ]
  },
  {
   "cell_type": "code",
   "execution_count": null,
   "metadata": {
    "colab": {
     "base_uri": "https://localhost:8080/",
     "height": 36
    },
    "id": "4QzG3kTxn7yJ",
    "outputId": "c925e136-33d7-43af-8775-796494f56214"
   },
   "outputs": [
    {
     "data": {
      "application/vnd.google.colaboratory.intrinsic+json": {
       "type": "string"
      },
      "text/plain": [
       "'Kota tidak terdaftar'"
      ]
     },
     "execution_count": 13,
     "metadata": {},
     "output_type": "execute_result"
    }
   ],
   "source": [
    "weather(\"ppppppp\")"
   ]
  },
  {
   "cell_type": "code",
   "execution_count": null,
   "metadata": {
    "colab": {
     "base_uri": "https://localhost:8080/",
     "height": 36
    },
    "id": "f3fY5hbnZLPC",
    "outputId": "bc3374eb-799a-4ac5-e207-5788813dee83"
   },
   "outputs": [
    {
     "data": {
      "application/vnd.google.colaboratory.intrinsic+json": {
       "type": "string"
      },
      "text/plain": [
       "'Kota tidak terdaftar'"
      ]
     },
     "execution_count": 14,
     "metadata": {},
     "output_type": "execute_result"
    }
   ],
   "source": [
    "weather(\"pppp\")"
   ]
  },
  {
   "cell_type": "code",
   "execution_count": null,
   "metadata": {
    "colab": {
     "base_uri": "https://localhost:8080/"
    },
    "id": "0m6axXHLA2ls",
    "outputId": "67f36e9b-cda6-4661-92ed-d4a20c1a9a81"
   },
   "outputs": [
    {
     "data": {
      "text/plain": [
       "(27.92, 78.39)"
      ]
     },
     "execution_count": 15,
     "metadata": {},
     "output_type": "execute_result"
    }
   ],
   "source": [
    "weather(\"banda aceh\")"
   ]
  },
  {
   "cell_type": "code",
   "execution_count": null,
   "metadata": {
    "colab": {
     "base_uri": "https://localhost:8080/"
    },
    "id": "VUIfnwGqA3tW",
    "outputId": "fcd466f5-409c-4d6c-ef6e-28a6baa232e1"
   },
   "outputs": [
    {
     "data": {
      "text/plain": [
       "(28.11, 88)"
      ]
     },
     "execution_count": 16,
     "metadata": {},
     "output_type": "execute_result"
    }
   ],
   "source": [
    "weather(\"murung raya\")"
   ]
  },
  {
   "cell_type": "code",
   "execution_count": null,
   "metadata": {
    "colab": {
     "base_uri": "https://localhost:8080/",
     "height": 36
    },
    "id": "uiJFCf8kU_tC",
    "outputId": "592b66c6-1dc5-410a-b000-5945bb07a238"
   },
   "outputs": [
    {
     "data": {
      "application/vnd.google.colaboratory.intrinsic+json": {
       "type": "string"
      },
      "text/plain": [
       "'Nama kota tidak boleh kurang dari 3 karakter'"
      ]
     },
     "execution_count": 17,
     "metadata": {},
     "output_type": "execute_result"
    }
   ],
   "source": [
    "weather(\"pp\")"
   ]
  },
  {
   "cell_type": "markdown",
   "metadata": {
    "id": "cfh8moGEMXEp"
   },
   "source": [
    "# Bismillah Final Code"
   ]
  },
  {
   "cell_type": "code",
   "execution_count": null,
   "metadata": {
    "id": "BmjTF5H3Q1eJ"
   },
   "outputs": [],
   "source": [
    "# DONT CHANGE!\n",
    "# Import required library\n",
    "import requests\n",
    "from datetime import datetime\n",
    "today = datetime.today()\n",
    "\n",
    "# API Key for OpenWeatherMap API\n",
    "api_key = \"API_KEY\"\n",
    "\n",
    "# Function for defining root_url\n",
    "def root_url(url_param, city_name, api_key):\n",
    "  root_url = [\"https://history.openweathermap.org/data/2.5/aggregated/month?\", \"https://api.openweathermap.org/data/2.5/weather?\"]\n",
    "  root_url = root_url[url_param]\n",
    "  url = [f\"{root_url}month={today.month}&q={city_name},ID&appid={api_key}\", f\"{root_url}q={city_name},ID&appid={api_key}\"]\n",
    "  url = url[url_param]\n",
    "  r = requests.get(url)\n",
    "  data = r.json()\n",
    "  return r, data\n",
    "\n",
    "# Function for calling response from API\n",
    "def weather(city_name):\n",
    "  # Calling root_url function for history data\n",
    "  r, data = root_url(0, city_name, api_key)\n",
    "  \n",
    "  # Checking if response data is 'code'\n",
    "  if 'cod' in data:\n",
    "    # Checking if the status of 'cod' is 200\n",
    "    if data['cod'] == 200:\n",
    "      # Getting the temperature from the json data\n",
    "      temp = data['result']['temp']['mean'] - 273.15\n",
    "      # Getting the humidity from the json data\n",
    "      humidity = data['result']['humidity']['mean']\n",
    "      \n",
    "  # Checking if response data is 'code'\n",
    "  elif 'code' in data:\n",
    "    # Checking if the status of 'code' is 404000\n",
    "    if data['code'] == 404000:\n",
    "      # Calling root_url function for current data\n",
    "      r, data = root_url(1, city_name, api_key)\n",
    "      # Checking if response data is 'cod'\n",
    "      if 'cod' in data:\n",
    "        # Checking if the status 'cod' is 200\n",
    "        if data['cod'] == 200:\n",
    "          # Getting the temperature from the json data\n",
    "          temp = data['main']['temp'] - 273.15\n",
    "          # Getting the humidity from the json data\n",
    "          humidity = data['main']['humidity']\n",
    "        else:\n",
    "          return \"Kota tidak terdaftar\"\n",
    "\n",
    "    else:\n",
    "      return \"Nama kota tidak boleh kurang dari 3 karakter\"\n",
    "\n",
    "  # Returning temp and humidity value\n",
    "  return round(temp, 2), humidity"
   ]
  },
  {
   "cell_type": "code",
   "execution_count": null,
   "metadata": {
    "id": "7K_bcN1rk1XU"
   },
   "outputs": [],
   "source": []
  }
 ],
 "metadata": {
  "colab": {
   "collapsed_sections": [
    "eal56-rfJ1vR",
    "feKfWLnrav3a",
    "ws4Mzg1yvckA"
   ],
   "include_colab_link": true,
   "name": "OpenWeatherMap API",
   "provenance": []
  },
  "kernelspec": {
   "display_name": "Python 3 (ipykernel)",
   "language": "python",
   "name": "python3"
  },
  "language_info": {
   "codemirror_mode": {
    "name": "ipython",
    "version": 3
   },
   "file_extension": ".py",
   "mimetype": "text/x-python",
   "name": "python",
   "nbconvert_exporter": "python",
   "pygments_lexer": "ipython3",
   "version": "3.9.12"
  }
 },
 "nbformat": 4,
 "nbformat_minor": 4
}
