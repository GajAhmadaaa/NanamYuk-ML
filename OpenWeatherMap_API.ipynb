{
  "nbformat": 4,
  "nbformat_minor": 0,
  "metadata": {
    "colab": {
      "name": "OpenWeatherMap API",
      "provenance": [],
      "collapsed_sections": [
        "eal56-rfJ1vR",
        "feKfWLnrav3a",
        "ws4Mzg1yvckA"
      ],
      "include_colab_link": true
    },
    "kernelspec": {
      "name": "python3",
      "display_name": "Python 3"
    },
    "language_info": {
      "name": "python"
    }
  },
  "cells": [
    {
      "cell_type": "markdown",
      "metadata": {
        "id": "view-in-github",
        "colab_type": "text"
      },
      "source": [
        "<a href=\"https://colab.research.google.com/github/GajAhmadaaa/NanamYuk-ML/blob/main/OpenWeatherMap_API.ipynb\" target=\"_parent\"><img src=\"https://colab.research.google.com/assets/colab-badge.svg\" alt=\"Open In Colab\"/></a>"
      ]
    },
    {
      "cell_type": "markdown",
      "source": [
        "## Raw City Based Weather Analysis"
      ],
      "metadata": {
        "id": "3hWsdMSWy203"
      }
    },
    {
      "cell_type": "code",
      "source": [
        "# importing the required libraries\n",
        "import requests\n",
        "# Enter the api key of openweathermap here\n",
        "api_key = \"81c713c1b0fea513c62681c97920daa9\"\n",
        "# Base url for the open map api\n",
        "root_url = \"http://api.openweathermap.org/data/2.5/weather?\"\n",
        "# Input the City name for which we need the weather data\n",
        "city_name = input(\"Please Enter The City Name : \")\n",
        "# Building the final url for the API call\n",
        "url = f\"{root_url}appid={api_key}&q={city_name}\"\n",
        "# sending a get request at the url\n",
        "r = requests.get(url)\n",
        "# storing the returned json data into a variable\n",
        "data = r.json()\n",
        "# Checking If there is no error and the status code is 200\n",
        "if data['cod'] == 200:\n",
        "    # getting the temperature from the json data\n",
        "    temp = data['main']['temp'] - 273.15\n",
        "    # getting the pressure from the json data\n",
        "    pressure = data['main']['pressure']\n",
        "    # getting the humidity from the json data\n",
        "    humidity = data['main']['humidity']\n",
        "    # getting the description from the json data\n",
        "    descr = data['weather'][0]['description']\n",
        "    # getting the wind speed from the json data\n",
        "    wind = data['wind']['speed']\n",
        "    # Displaying all the data\n",
        "    print(f\"City Name : {city_name}\")\n",
        "    print(f\"The Weather Condition is {descr}\")\n",
        "    print(f\"The temperature is {temp :.2f} Celsius\")\n",
        "    print(f\"The pressure is {pressure}hPa\")\n",
        "    print(f\"The humidity is {humidity}%\")\n",
        "    print(f\"The speed of wind is {wind}m/s\")\n",
        "    print(url)\n",
        "else:\n",
        "    # If any error occured then print this\n",
        "    print(\"Something Went Wrong\")"
      ],
      "metadata": {
        "id": "fam5io_64MMA"
      },
      "execution_count": null,
      "outputs": []
    },
    {
      "cell_type": "markdown",
      "source": [
        "## Improved City Based Weather Analysis but just avg Temp within month"
      ],
      "metadata": {
        "id": "eal56-rfJ1vR"
      }
    },
    {
      "cell_type": "code",
      "source": [
        "import requests\n",
        "from datetime import datetime\n",
        "today = datetime.today()\n",
        "\n",
        "api_key = \"81c713c1b0fea513c62681c97920daa9\"\n",
        "\n",
        "root_url = \"https://history.openweathermap.org/data/2.5/aggregated/month?\"\n",
        "\n",
        "city_name = input(\"Please Enter The City Name : \")\n",
        "\n",
        "url = f\"{root_url}month={today.month}&q={city_name},ID&appid={api_key}\"\n",
        "\n",
        "r = requests.get(url)\n",
        "\n",
        "data = r.json()\n",
        "# Checking If there is no error and the status code is 200\n",
        "if data['cod'] == 200:\n",
        "    # getting the temperature from the json data\n",
        "    temp = data['result']['temp']['mean'] - 273.15\n",
        "    # getting the humidity from the json data\n",
        "    humidity = data['result']['humidity']['mean']\n",
        "    # getting the month from the json data\n",
        "    month = data['result']['month']\n",
        "    print(f\"City Name : {city_name}\")\n",
        "    print(f\"The avg temperature in month {month} is {temp :.2f} Celsius\")\n",
        "    print(f\"The avg humidity in month {month} is {humidity :.2f} %\")\n",
        "    print(url)\n",
        "else:\n",
        "    message = data['message']\n",
        "    print(\"Something Went Wrong,\", message)"
      ],
      "metadata": {
        "id": "eUp-c3UeJ2Z5"
      },
      "execution_count": null,
      "outputs": []
    },
    {
      "cell_type": "markdown",
      "source": [
        "## Error handling with try except implementation"
      ],
      "metadata": {
        "id": "feKfWLnrav3a"
      }
    },
    {
      "cell_type": "code",
      "source": [
        "import requests\n",
        "from datetime import datetime\n",
        "today = datetime.today()\n",
        "\n",
        "api_key = \"81c713c1b0fea513c62681c97920daa9\"\n",
        "\n",
        "root_url = \"https://history.openweathermap.org/data/2.5/aggregated/month?\"\n",
        "\n",
        "city_name = \"Riau\" #input(\"Please Enter The City Name : \")\n",
        "\n",
        "url = f\"{root_url}month={today.month}&q={city_name},ID&appid={api_key}\"\n",
        "\n",
        "r = requests.get(url)\n",
        "\n",
        "data = r.json()\n",
        "# Checking If there is no error and the status code is 200\n",
        "try:\n",
        "  if data['cod'] == 200:\n",
        "      # getting the temperature from the json data\n",
        "      temp = data['result']['temp']['mean'] - 273.15\n",
        "      month = data['result']['month']\n",
        "      print(f\"City Name : {city_name}\")\n",
        "      print(f\"The avg temperature in month {month} is {temp :.2f} Celsius\")\n",
        "      print(url)\n",
        "  else:\n",
        "      message = data['message']\n",
        "      print(\"Something Went Wrong,\", message)\n",
        "except:\n",
        "  message = data['message']\n",
        "  print(\"error,\", message)"
      ],
      "metadata": {
        "id": "Ku4USNSVauS2"
      },
      "execution_count": null,
      "outputs": []
    },
    {
      "cell_type": "markdown",
      "source": [
        "## Enhanced Error handling with try except for location that has no weather history data"
      ],
      "metadata": {
        "id": "D_IU3pEzJuaI"
      }
    },
    {
      "cell_type": "code",
      "source": [
        "import requests\n",
        "from datetime import datetime\n",
        "today = datetime.today()\n",
        "\n",
        "api_key = \"81c713c1b0fea513c62681c97920daa9\"\n",
        "city_name = input(\"Please Enter The City Name : \")\n",
        "\n",
        "###########################################################################\n",
        "# Bisa dijadikan Function #\n",
        "root_url = \"https://history.openweathermap.org/data/2.5/aggregated/month?\"\n",
        "url = f\"{root_url}month={today.month}&q={city_name},ID&appid={api_key}\"\n",
        "r = requests.get(url)\n",
        "data = r.json()\n",
        "\n",
        "root_url2 = \"https://api.openweathermap.org/data/2.5/weather?\"\n",
        "url2 = f\"{root_url2}q={city_name}&appid={api_key}\"\n",
        "r2 = requests.get(url2)\n",
        "data2 = r2.json()\n",
        "############################################################################\n",
        "\n",
        "# Checking If there is no error and the status code is 200\n",
        "try:\n",
        "  if data['cod'] == 200:\n",
        "      # getting the temperature from the json data\n",
        "      temp = data['result']['temp']['mean'] - 273.15\n",
        "      # getting the humidity from the json data\n",
        "      humidity = data['result']['humidity']['mean']\n",
        "      # getting the month from the json data\n",
        "      month = data['result']['month']\n",
        "      print(f\"City Name : {city_name}\")\n",
        "      print(f\"The avg temperature in month {month} is {temp :.2f} Celsius\")\n",
        "      print(f\"The avg humidity in month {month} is {humidity :.2f} %\")\n",
        "      print(url)\n",
        "  else:\n",
        "      message = data['message']\n",
        "      print(\"Something Went Wrong,\", message)\n",
        "except:\n",
        "  if data['code'] == 404000:\n",
        "      message = data['message']\n",
        "      print(f\"Error, {message}. Switching to current weather....\")\n",
        "      \n",
        "      # getting the temperature from the json data\n",
        "      temp = data2['main']['temp'] - 273.15\n",
        "      # getting the humidity from the json data\n",
        "      humidity = data2['main']['humidity']\n",
        "      print(f\"City Name : {city_name}\")\n",
        "      print(f\"The current temperature is {temp :.2f} Celsius\")\n",
        "      print(f\"The current humidity is {humidity :.2f} %\")\n",
        "      print(url2)"
      ],
      "metadata": {
        "id": "fARZC3faJs4z"
      },
      "execution_count": null,
      "outputs": []
    },
    {
      "cell_type": "markdown",
      "source": [
        "## Make it as function"
      ],
      "metadata": {
        "id": "4PwqNh1XuTXg"
      }
    },
    {
      "cell_type": "code",
      "source": [
        "import requests\n",
        "from datetime import datetime\n",
        "today = datetime.today()\n",
        "\n",
        "api_key = \"81c713c1b0fea513c62681c97920daa9\"\n",
        "\n",
        "def root_url(url_param, city_name, api_key):\n",
        "    root_url = [\"https://history.openweathermap.org/data/2.5/aggregated/month?\", \"https://api.openweathermap.org/data/2.5/weather?\"]\n",
        "    root_url = root_url[url_param]\n",
        "    url = [f\"{root_url}month={today.month}&q={city_name},ID&appid={api_key}\", f\"{root_url}q={city_name},ID&appid={api_key}\"]\n",
        "    url = url[url_param]\n",
        "    r = requests.get(url)\n",
        "    data = r.json()\n",
        "    return r, data\n",
        "\n",
        "def weather(city_name):\n",
        "    r, data = root_url(0, city_name, api_key)\n",
        "    # Checking If there is no error and the status code is 200\n",
        "    try:\n",
        "      if data['cod'] == 200:\n",
        "          # getting the temperature from the json data\n",
        "          temp = data['result']['temp']['mean'] - 273.15\n",
        "          # getting the humidity from the json data\n",
        "          humidity = data['result']['humidity']['mean']\n",
        "          # getting the month from the json data\n",
        "          month = data['result']['month']\n",
        "          print(\"success\")\n",
        "      else:\n",
        "          message = data['message']\n",
        "          print(\"Something Went Wrong,\", message)\n",
        "    except:\n",
        "      if data['code'] == 404000:\n",
        "          message = data['message']\n",
        "          print(f\"Error, {message}. Switching to current weather....\")\n",
        "          r, data = root_url(1, city_name, api_key)\n",
        "          # getting the temperature from the json data\n",
        "          temp = data['main']['temp'] - 273.15\n",
        "          # getting the humidity from the json data\n",
        "          humidity = data['main']['humidity']\n",
        "          #print(url)\n",
        "    \n",
        "    return round(temp, 2), humidity"
      ],
      "metadata": {
        "id": "xRx6KtCfBdjh"
      },
      "execution_count": 14,
      "outputs": []
    },
    {
      "cell_type": "markdown",
      "source": [
        "## testing"
      ],
      "metadata": {
        "id": "vPfFYAu7A8lR"
      }
    },
    {
      "cell_type": "code",
      "source": [
        "weather(\"bandung\")"
      ],
      "metadata": {
        "id": "MUXTMe3VA1AX"
      },
      "execution_count": null,
      "outputs": []
    },
    {
      "cell_type": "code",
      "source": [
        "weather(\"martapura\")"
      ],
      "metadata": {
        "id": "0m6axXHLA2ls"
      },
      "execution_count": null,
      "outputs": []
    },
    {
      "cell_type": "code",
      "source": [
        "weather(\"riau\")"
      ],
      "metadata": {
        "id": "VUIfnwGqA3tW"
      },
      "execution_count": null,
      "outputs": []
    }
  ]
}