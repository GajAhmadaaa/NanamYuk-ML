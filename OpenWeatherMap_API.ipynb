{
  "nbformat": 4,
  "nbformat_minor": 0,
  "metadata": {
    "colab": {
      "name": "OpenWeatherMap API",
      "provenance": [],
      "collapsed_sections": [
        "eal56-rfJ1vR",
        "feKfWLnrav3a",
        "ws4Mzg1yvckA"
      ],
      "include_colab_link": true
    },
    "kernelspec": {
      "name": "python3",
      "display_name": "Python 3"
    },
    "language_info": {
      "name": "python"
    }
  },
  "cells": [
    {
      "cell_type": "markdown",
      "metadata": {
        "id": "view-in-github",
        "colab_type": "text"
      },
      "source": [
        "<a href=\"https://colab.research.google.com/github/GajAhmadaaa/NanamYuk-ML/blob/main/OpenWeatherMap_API.ipynb\" target=\"_parent\"><img src=\"https://colab.research.google.com/assets/colab-badge.svg\" alt=\"Open In Colab\"/></a>"
      ]
    },
    {
      "cell_type": "markdown",
      "source": [
        "## Raw City Based Weather Analysis"
      ],
      "metadata": {
        "id": "3hWsdMSWy203"
      }
    },
    {
      "cell_type": "code",
      "source": [
        "# importing the required libraries\n",
        "import requests\n",
        "# Enter the api key of openweathermap here\n",
        "api_key = \"81c713c1b0fea513c62681c97920daa9\"\n",
        "# Base url for the open map api\n",
        "root_url = \"http://api.openweathermap.org/data/2.5/weather?\"\n",
        "# Input the City name for which we need the weather data\n",
        "city_name = input(\"Please Enter The City Name : \")\n",
        "# Building the final url for the API call\n",
        "url = f\"{root_url}appid={api_key}&q={city_name}\"\n",
        "# sending a get request at the url\n",
        "r = requests.get(url)\n",
        "# storing the returned json data into a variable\n",
        "data = r.json()\n",
        "# Checking If there is no error and the status code is 200\n",
        "if data['cod'] == 200:\n",
        "    # getting the temperature from the json data\n",
        "    temp = data['main']['temp'] - 273.15\n",
        "    # getting the pressure from the json data\n",
        "    pressure = data['main']['pressure']\n",
        "    # getting the humidity from the json data\n",
        "    humidity = data['main']['humidity']\n",
        "    # getting the description from the json data\n",
        "    descr = data['weather'][0]['description']\n",
        "    # getting the wind speed from the json data\n",
        "    wind = data['wind']['speed']\n",
        "    # Displaying all the data\n",
        "    print(f\"City Name : {city_name}\")\n",
        "    print(f\"The Weather Condition is {descr}\")\n",
        "    print(f\"The temperature is {temp :.2f} Celsius\")\n",
        "    print(f\"The pressure is {pressure}hPa\")\n",
        "    print(f\"The humidity is {humidity}%\")\n",
        "    print(f\"The speed of wind is {wind}m/s\")\n",
        "    print(url)\n",
        "else:\n",
        "    # If any error occured then print this\n",
        "    print(\"gaada nama kota\", url)"
      ],
      "metadata": {
        "id": "fam5io_64MMA",
        "outputId": "eed75f09-f595-4aca-f07c-70a21b91ccb4",
        "colab": {
          "base_uri": "https://localhost:8080/"
        }
      },
      "execution_count": null,
      "outputs": [
        {
          "output_type": "stream",
          "name": "stdout",
          "text": [
            "Please Enter The City Name : jakarta\n",
            "City Name : jakarta\n",
            "The Weather Condition is broken clouds\n",
            "The temperature is 24.55 Celsius\n",
            "The pressure is 1009hPa\n",
            "The humidity is 93%\n",
            "The speed of wind is 1.73m/s\n",
            "http://api.openweathermap.org/data/2.5/weather?appid=81c713c1b0fea513c62681c97920daa9&q=jakarta\n"
          ]
        }
      ]
    },
    {
      "cell_type": "markdown",
      "source": [
        "## Improved City Based Weather Analysis but just avg Temp within month"
      ],
      "metadata": {
        "id": "eal56-rfJ1vR"
      }
    },
    {
      "cell_type": "code",
      "source": [
        "import requests\n",
        "from datetime import datetime\n",
        "today = datetime.today()\n",
        "\n",
        "api_key = \"81c713c1b0fea513c62681c97920daa9\"\n",
        "\n",
        "root_url = \"https://history.openweathermap.org/data/2.5/aggregated/month?\"\n",
        "\n",
        "city_name = input(\"Please Enter The City Name : \")\n",
        "\n",
        "url = f\"{root_url}month={today.month}&q={city_name},ID&appid={api_key}\"\n",
        "\n",
        "r = requests.get(url)\n",
        "\n",
        "data = r.json()\n",
        "# Checking If there is no error and the status code is 200\n",
        "if data['cod'] == 200:\n",
        "    # getting the temperature from the json data\n",
        "    temp = data['result']['temp']['mean'] - 273.15\n",
        "    # getting the humidity from the json data\n",
        "    humidity = data['result']['humidity']['mean']\n",
        "    # getting the month from the json data\n",
        "    month = data['result']['month']\n",
        "    print(f\"City Name : {city_name}\")\n",
        "    print(f\"The avg temperature in month {month} is {temp :.2f} Celsius\")\n",
        "    print(f\"The avg humidity in month {month} is {humidity :.2f} %\")\n",
        "    print(url)\n",
        "else:\n",
        "    message = data['message']\n",
        "    print(\"Something Went Wrong,\", message)"
      ],
      "metadata": {
        "id": "eUp-c3UeJ2Z5"
      },
      "execution_count": null,
      "outputs": []
    },
    {
      "cell_type": "markdown",
      "source": [
        "## Error handling with try except implementation"
      ],
      "metadata": {
        "id": "feKfWLnrav3a"
      }
    },
    {
      "cell_type": "code",
      "source": [
        "import requests\n",
        "from datetime import datetime\n",
        "today = datetime.today()\n",
        "\n",
        "api_key = \"81c713c1b0fea513c62681c97920daa9\"\n",
        "\n",
        "root_url = \"https://history.openweathermap.org/data/2.5/aggregated/month?\"\n",
        "\n",
        "city_name = \"Riau\" #input(\"Please Enter The City Name : \")\n",
        "\n",
        "url = f\"{root_url}month={today.month}&q={city_name},ID&appid={api_key}\"\n",
        "\n",
        "r = requests.get(url)\n",
        "\n",
        "data = r.json()\n",
        "# Checking If there is no error and the status code is 200\n",
        "try:\n",
        "  if data['cod'] == 200:\n",
        "      # getting the temperature from the json data\n",
        "      temp = data['result']['temp']['mean'] - 273.15\n",
        "      month = data['result']['month']\n",
        "      print(f\"City Name : {city_name}\")\n",
        "      print(f\"The avg temperature in month {month} is {temp :.2f} Celsius\")\n",
        "      print(url)\n",
        "  else:\n",
        "      message = data['message']\n",
        "      print(\"Something Went Wrong,\", message)\n",
        "except:\n",
        "  message = data['message']\n",
        "  print(\"error,\", message)"
      ],
      "metadata": {
        "id": "Ku4USNSVauS2"
      },
      "execution_count": null,
      "outputs": []
    },
    {
      "cell_type": "markdown",
      "source": [
        "## Enhanced Error handling with try except for location that has no weather history data"
      ],
      "metadata": {
        "id": "D_IU3pEzJuaI"
      }
    },
    {
      "cell_type": "code",
      "source": [
        "import requests\n",
        "from datetime import datetime\n",
        "today = datetime.today()\n",
        "\n",
        "api_key = \"81c713c1b0fea513c62681c97920daa9\"\n",
        "city_name = input(\"Please Enter The City Name : \")\n",
        "\n",
        "###########################################################################\n",
        "# Bisa dijadikan Function #\n",
        "root_url = \"https://history.openweathermap.org/data/2.5/aggregated/month?\"\n",
        "url = f\"{root_url}month={today.month}&q={city_name},ID&appid={api_key}\"\n",
        "r = requests.get(url)\n",
        "data = r.json()\n",
        "\n",
        "root_url2 = \"https://api.openweathermap.org/data/2.5/weather?\"\n",
        "url2 = f\"{root_url2}q={city_name}&appid={api_key}\"\n",
        "r2 = requests.get(url2)\n",
        "data2 = r2.json()\n",
        "############################################################################\n",
        "\n",
        "# Checking If there is no error and the status code is 200\n",
        "try:\n",
        "  if data['cod'] == 200:\n",
        "      # getting the temperature from the json data\n",
        "      temp = data['result']['temp']['mean'] - 273.15\n",
        "      # getting the humidity from the json data\n",
        "      humidity = data['result']['humidity']['mean']\n",
        "      # getting the month from the json data\n",
        "      month = data['result']['month']\n",
        "      print(f\"City Name : {city_name}\")\n",
        "      print(f\"The avg temperature in month {month} is {temp :.2f} Celsius\")\n",
        "      print(f\"The avg humidity in month {month} is {humidity :.2f} %\")\n",
        "      print(url)\n",
        "  else:\n",
        "      message = data['message']\n",
        "      print(\"Something Went Wrong,\", message)\n",
        "except:\n",
        "  if data['code'] == 404000:\n",
        "      message = data['message']\n",
        "      print(f\"Error, {message}. Switching to current weather....\")\n",
        "      \n",
        "      # getting the temperature from the json data\n",
        "      temp = data2['main']['temp'] - 273.15\n",
        "      # getting the humidity from the json data\n",
        "      humidity = data2['main']['humidity']\n",
        "      print(f\"City Name : {city_name}\")\n",
        "      print(f\"The current temperature is {temp :.2f} Celsius\")\n",
        "      print(f\"The current humidity is {humidity :.2f} %\")\n",
        "      print(url2)"
      ],
      "metadata": {
        "id": "fARZC3faJs4z",
        "colab": {
          "base_uri": "https://localhost:8080/"
        },
        "outputId": "65ee2847-671d-4367-a72f-1def67cd6322"
      },
      "execution_count": null,
      "outputs": [
        {
          "output_type": "stream",
          "name": "stdout",
          "text": [
            "Please Enter The City Name : p\n",
            "Something Went Wrong, Error\n"
          ]
        }
      ]
    },
    {
      "cell_type": "markdown",
      "source": [
        "## Make it as function"
      ],
      "metadata": {
        "id": "4PwqNh1XuTXg"
      }
    },
    {
      "cell_type": "code",
      "source": [
        "import requests\n",
        "from datetime import datetime\n",
        "today = datetime.today()\n",
        "\n",
        "api_key = \"81c713c1b0fea513c62681c97920daa9\"\n",
        "\n",
        "def root_url(url_param, city_name, api_key):\n",
        "    root_url = [\"https://history.openweathermap.org/data/2.5/aggregated/month?\", \"https://api.openweathermap.org/data/2.5/weather?\"]\n",
        "    root_url = root_url[url_param]\n",
        "    url = [f\"{root_url}month={today.month}&q={city_name},ID&appid={api_key}\", f\"{root_url}q={city_name},ID&appid={api_key}\"]\n",
        "    url = url[url_param]\n",
        "    r = requests.get(url)\n",
        "    data = r.json()\n",
        "    return r, data\n",
        "\n",
        "def weather(city_name):\n",
        "    r, data = root_url(0, city_name, api_key)\n",
        "    # Checking If there is no error and the status code is 200\n",
        "    try:\n",
        "      if data['cod'] == 200:\n",
        "          # getting the temperature from the json data\n",
        "          temp = data['result']['temp']['mean'] - 273.15\n",
        "          # getting the humidity from the json data\n",
        "          humidity = data['result']['humidity']['mean']\n",
        "          # getting the month from the json data\n",
        "          month = data['result']['month']\n",
        "          print(\"success\")\n",
        "      elif data['cod'] != 200:\n",
        "          message = data['message']\n",
        "          print(\"Nama kota tidak ada,\", message)\n",
        "    except:\n",
        "      if data['code'] == 404000:\n",
        "          message = data['message']\n",
        "          print(f\"Error, {message}. Switching to current weather....\")\n",
        "          r, data = root_url(1, city_name, api_key)\n",
        "          # getting the temperature from the json data\n",
        "          temp = data['main']['temp'] - 273.15\n",
        "          # getting the humidity from the json data\n",
        "          humidity = data['main']['humidity']\n",
        "          #print(url)\n",
        "    \n",
        "    return round(temp, 2), humidity"
      ],
      "metadata": {
        "id": "xRx6KtCfBdjh"
      },
      "execution_count": null,
      "outputs": []
    },
    {
      "cell_type": "markdown",
      "source": [
        "## Testing (RUN THIS FOR ITERATING)"
      ],
      "metadata": {
        "id": "vPfFYAu7A8lR"
      }
    },
    {
      "cell_type": "code",
      "source": [
        "import requests\n",
        "from datetime import datetime\n",
        "today = datetime.today()\n",
        "\n",
        "api_key = \"81c713c1b0fea513c62681c97920daa9\"\n",
        "\n",
        "def root_url(url_param, city_name, api_key):\n",
        "  root_url = [\"https://history.openweathermap.org/data/2.5/aggregated/month?\", \"https://api.openweathermap.org/data/2.5/weather?\"]\n",
        "  root_url = root_url[url_param]\n",
        "  url = [f\"{root_url}month={today.month}&q={city_name},ID&appid={api_key}\", f\"{root_url}q={city_name},ID&appid={api_key}\"]\n",
        "  url = url[url_param]\n",
        "  r = requests.get(url)\n",
        "  data = r.json()\n",
        "  return r, data, url, city_name\n",
        "\n",
        "def weather(city_name):\n",
        "  r, data, url, city_name = root_url(0, city_name, api_key)\n",
        "\n",
        "  if 'cod' in data:\n",
        "    if data['cod'] == 200:\n",
        "      temp = data['result']['temp']['mean'] - 273.15\n",
        "      humidity = data['result']['humidity']['mean']\n",
        "      month = data['result']['month']\n",
        "      print(f\"success/{city_name}/{url}\")\n",
        "\n",
        "  elif 'code' in data:\n",
        "    if data['code'] == 404000:\n",
        "      r, data, url, city_name = root_url(1, city_name, api_key)\n",
        "\n",
        "      if 'cod' in data:\n",
        "        if data['cod'] == 200:\n",
        "          print(f\"current/{city_name}/{url}\")\n",
        "          temp = data['main']['temp'] - 273.15\n",
        "          humidity = data['main']['humidity']\n",
        "        else:\n",
        "          message = data['message']\n",
        "          print(f\"{message}/{city_name}/{url}\")\n",
        "\n",
        "    else:\n",
        "      print(\"Nama kota tidak boleh <= 3 karakter\")\n",
        "\n",
        "  #return round(temp, 2), humidity"
      ],
      "metadata": {
        "id": "DLv6nXaqVtN3"
      },
      "execution_count": 1,
      "outputs": []
    },
    {
      "cell_type": "code",
      "source": [
        "weather(\"cilacap\")"
      ],
      "metadata": {
        "id": "MUXTMe3VA1AX",
        "outputId": "89b58a8c-af91-457d-afe3-c463602b07d5",
        "colab": {
          "base_uri": "https://localhost:8080/"
        }
      },
      "execution_count": 2,
      "outputs": [
        {
          "output_type": "stream",
          "name": "stdout",
          "text": [
            "city not found/cilacap/https://api.openweathermap.org/data/2.5/weather?q=cilacap,ID&appid=81c713c1b0fea513c62681c97920daa9\n"
          ]
        }
      ]
    },
    {
      "cell_type": "code",
      "source": [
        "weather(\"ppppppp\")"
      ],
      "metadata": {
        "id": "4QzG3kTxn7yJ"
      },
      "execution_count": null,
      "outputs": []
    },
    {
      "cell_type": "code",
      "source": [
        "weather(\"pp\")"
      ],
      "metadata": {
        "colab": {
          "base_uri": "https://localhost:8080/"
        },
        "id": "f3fY5hbnZLPC",
        "outputId": "f1ba3556-8cf0-4582-f108-608dd1d67309"
      },
      "execution_count": 3,
      "outputs": [
        {
          "output_type": "stream",
          "name": "stdout",
          "text": [
            "Nama kota tidak boleh <= 3 karakter\n"
          ]
        }
      ]
    },
    {
      "cell_type": "code",
      "source": [
        "weather(\"banda aceh\")"
      ],
      "metadata": {
        "id": "0m6axXHLA2ls",
        "outputId": "f34ff4fe-a907-4854-ea67-d53ddb33143f",
        "colab": {
          "base_uri": "https://localhost:8080/"
        }
      },
      "execution_count": 4,
      "outputs": [
        {
          "output_type": "stream",
          "name": "stdout",
          "text": [
            "success/banda aceh/https://history.openweathermap.org/data/2.5/aggregated/month?month=6&q=banda aceh,ID&appid=81c713c1b0fea513c62681c97920daa9\n"
          ]
        }
      ]
    },
    {
      "cell_type": "code",
      "source": [
        "weather(\"murung raya\")"
      ],
      "metadata": {
        "id": "VUIfnwGqA3tW",
        "outputId": "9e84209e-6262-434e-f7f9-492d19eae933",
        "colab": {
          "base_uri": "https://localhost:8080/"
        }
      },
      "execution_count": 5,
      "outputs": [
        {
          "output_type": "stream",
          "name": "stdout",
          "text": [
            "current/murung raya/https://api.openweathermap.org/data/2.5/weather?q=murung raya,ID&appid=81c713c1b0fea513c62681c97920daa9\n"
          ]
        }
      ]
    },
    {
      "cell_type": "code",
      "source": [
        "weather(\"jakarta\")"
      ],
      "metadata": {
        "colab": {
          "base_uri": "https://localhost:8080/"
        },
        "id": "uiJFCf8kU_tC",
        "outputId": "d8e7232f-c042-4931-96e1-5c4ce43c6498"
      },
      "execution_count": 3,
      "outputs": [
        {
          "output_type": "stream",
          "name": "stdout",
          "text": [
            "success/jakarta/https://history.openweathermap.org/data/2.5/aggregated/month?month=6&q=jakarta,ID&appid=81c713c1b0fea513c62681c97920daa9\n"
          ]
        }
      ]
    },
    {
      "cell_type": "markdown",
      "source": [
        "## Iterate through city list"
      ],
      "metadata": {
        "id": "CwenylVtKyIe"
      }
    },
    {
      "cell_type": "code",
      "source": [
        "import pandas as pd\n",
        "import io\n",
        "import requests\n",
        "url=\"https://simplemaps.com/static/data/country-cities/id/id.csv\"\n",
        "s=requests.get(url).content\n",
        "c=pd.read_csv(io.StringIO(s.decode('utf-8')))\n",
        "\n",
        "c.head()"
      ],
      "metadata": {
        "id": "gxWqTuqD7C1T"
      },
      "execution_count": null,
      "outputs": []
    },
    {
      "cell_type": "code",
      "source": [
        "x = c.loc[:,'city']\n",
        "for i in x:\n",
        "  weather(i)\n",
        "  print(\"=\" * 100)"
      ],
      "metadata": {
        "id": "Id7ttERl70HQ"
      },
      "execution_count": null,
      "outputs": []
    },
    {
      "cell_type": "markdown",
      "source": [
        "# Bismillah"
      ],
      "metadata": {
        "id": "cfh8moGEMXEp"
      }
    },
    {
      "cell_type": "code",
      "source": [
        "# DONT CHANGE!\n",
        "import requests\n",
        "from datetime import datetime\n",
        "today = datetime.today()\n",
        "\n",
        "api_key = \"81c713c1b0fea513c62681c97920daa9\"\n",
        "\n",
        "def root_url(url_param, city_name, api_key):\n",
        "  root_url = [\"https://history.openweathermap.org/data/2.5/aggregated/month?\", \"https://api.openweathermap.org/data/2.5/weather?\"]\n",
        "  root_url = root_url[url_param]\n",
        "  url = [f\"{root_url}month={today.month}&q={city_name},ID&appid={api_key}\", f\"{root_url}q={city_name},ID&appid={api_key}\"]\n",
        "  url = url[url_param]\n",
        "  r = requests.get(url)\n",
        "  data = r.json()\n",
        "  return r, data, url, city_name\n",
        "\n",
        "def weather(city_name):\n",
        "  r, data, url, city_name = root_url(0, city_name, api_key)\n",
        "      # Checking If there is no error and the status code is 200\n",
        "\n",
        "  if 'cod' in data:\n",
        "    print('masuk (if cod in data)')\n",
        "    if data['cod'] == 200:\n",
        "      print('masuk cod 200 (1)')\n",
        "      # getting the temperature from the json data\n",
        "      temp = data['result']['temp']['mean'] - 273.15\n",
        "      # getting the humidity from the json data\n",
        "      humidity = data['result']['humidity']['mean']\n",
        "      # getting the month from the json data\n",
        "      month = data['result']['month']\n",
        "      print(\"success\")\n",
        "      print(city_name)\n",
        "      print(url)\n",
        "    else:\n",
        "      print('masuk cod else (1)')\n",
        "      print(city_name)\n",
        "      print(url)\n",
        "\n",
        "  elif 'code' in data:\n",
        "    print('code')\n",
        "    if data['code'] == 404000:\n",
        "      print(url)\n",
        "      print(\"masuk kesini\")\n",
        "      message = data['message']\n",
        "      print(f\"Error, {message}. Switching to current weather....\")\n",
        "      r, data, url, city_name = root_url(1, city_name, api_key)\n",
        "      if 'cod' in data:\n",
        "        if data['cod'] == 200:\n",
        "          print('manuk cod lagi')\n",
        "          print(city_name)\n",
        "          print(url)\n",
        "          # getting the temperature from the json data\n",
        "          temp = data['main']['temp'] - 273.15\n",
        "          # getting the humidity from the json data\n",
        "          humidity = data['main']['humidity']\n",
        "        else:\n",
        "          temp = 0\n",
        "          humidity = 0\n",
        "          print('There are no data in current weather either')\n",
        "          print(city_name)\n",
        "          print(url)\n",
        "    else:\n",
        "      print(\"masuk ke code else\")\n",
        "      print(\"Nama kota tidak boleh kurang dari 3 karakter\")\n",
        "      print(city_name)\n",
        "      print(url)\n",
        "      return False\n",
        "\n",
        "  return round(temp, 2), humidity"
      ],
      "metadata": {
        "id": "BmjTF5H3Q1eJ"
      },
      "execution_count": 11,
      "outputs": []
    },
    {
      "cell_type": "code",
      "source": [
        ""
      ],
      "metadata": {
        "id": "7K_bcN1rk1XU"
      },
      "execution_count": null,
      "outputs": []
    }
  ]
}