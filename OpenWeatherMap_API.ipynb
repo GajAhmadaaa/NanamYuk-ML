{
  "nbformat": 4,
  "nbformat_minor": 0,
  "metadata": {
    "colab": {
      "name": "OpenWeatherMap API",
      "provenance": [],
      "collapsed_sections": [
        "eal56-rfJ1vR",
        "feKfWLnrav3a",
        "ws4Mzg1yvckA"
      ],
      "include_colab_link": true
    },
    "kernelspec": {
      "name": "python3",
      "display_name": "Python 3"
    },
    "language_info": {
      "name": "python"
    }
  },
  "cells": [
    {
      "cell_type": "markdown",
      "metadata": {
        "id": "view-in-github",
        "colab_type": "text"
      },
      "source": [
        "<a href=\"https://colab.research.google.com/github/GajAhmadaaa/NanamYuk-ML/blob/main/OpenWeatherMap_API.ipynb\" target=\"_parent\"><img src=\"https://colab.research.google.com/assets/colab-badge.svg\" alt=\"Open In Colab\"/></a>"
      ]
    },
    {
      "cell_type": "markdown",
      "source": [
        "## Raw City Based Weather Analysis"
      ],
      "metadata": {
        "id": "3hWsdMSWy203"
      }
    },
    {
      "cell_type": "code",
      "source": [
        "# importing the required libraries\n",
        "import requests\n",
        "# Enter the api key of openweathermap here\n",
        "api_key = \"81c713c1b0fea513c62681c97920daa9\"\n",
        "# Base url for the open map api\n",
        "root_url = \"http://api.openweathermap.org/data/2.5/weather?\"\n",
        "# Input the City name for which we need the weather data\n",
        "city_name = input(\"Please Enter The City Name : \")\n",
        "# Building the final url for the API call\n",
        "url = f\"{root_url}appid={api_key}&q={city_name}\"\n",
        "# sending a get request at the url\n",
        "r = requests.get(url)\n",
        "# storing the returned json data into a variable\n",
        "data = r.json()\n",
        "# Checking If there is no error and the status code is 200\n",
        "if data['cod'] == 200:\n",
        "    # getting the temperature from the json data\n",
        "    temp = data['main']['temp'] - 273.15\n",
        "    # getting the pressure from the json data\n",
        "    pressure = data['main']['pressure']\n",
        "    # getting the humidity from the json data\n",
        "    humidity = data['main']['humidity']\n",
        "    # getting the description from the json data\n",
        "    descr = data['weather'][0]['description']\n",
        "    # getting the wind speed from the json data\n",
        "    wind = data['wind']['speed']\n",
        "    # Displaying all the data\n",
        "    print(f\"City Name : {city_name}\")\n",
        "    print(f\"The Weather Condition is {descr}\")\n",
        "    print(f\"The temperature is {temp :.2f} Celsius\")\n",
        "    print(f\"The pressure is {pressure}hPa\")\n",
        "    print(f\"The humidity is {humidity}%\")\n",
        "    print(f\"The speed of wind is {wind}m/s\")\n",
        "    print(url)\n",
        "else:\n",
        "    # If any error occured then print this\n",
        "    print(\"gaada nama kota\", url)"
      ],
      "metadata": {
        "id": "fam5io_64MMA",
        "outputId": "eed75f09-f595-4aca-f07c-70a21b91ccb4",
        "colab": {
          "base_uri": "https://localhost:8080/"
        }
      },
      "execution_count": 80,
      "outputs": [
        {
          "output_type": "stream",
          "name": "stdout",
          "text": [
            "Please Enter The City Name : jakarta\n",
            "City Name : jakarta\n",
            "The Weather Condition is broken clouds\n",
            "The temperature is 24.55 Celsius\n",
            "The pressure is 1009hPa\n",
            "The humidity is 93%\n",
            "The speed of wind is 1.73m/s\n",
            "http://api.openweathermap.org/data/2.5/weather?appid=81c713c1b0fea513c62681c97920daa9&q=jakarta\n"
          ]
        }
      ]
    },
    {
      "cell_type": "markdown",
      "source": [
        "## Improved City Based Weather Analysis but just avg Temp within month"
      ],
      "metadata": {
        "id": "eal56-rfJ1vR"
      }
    },
    {
      "cell_type": "code",
      "source": [
        "import requests\n",
        "from datetime import datetime\n",
        "today = datetime.today()\n",
        "\n",
        "api_key = \"81c713c1b0fea513c62681c97920daa9\"\n",
        "\n",
        "root_url = \"https://history.openweathermap.org/data/2.5/aggregated/month?\"\n",
        "\n",
        "city_name = input(\"Please Enter The City Name : \")\n",
        "\n",
        "url = f\"{root_url}month={today.month}&q={city_name},ID&appid={api_key}\"\n",
        "\n",
        "r = requests.get(url)\n",
        "\n",
        "data = r.json()\n",
        "# Checking If there is no error and the status code is 200\n",
        "if data['cod'] == 200:\n",
        "    # getting the temperature from the json data\n",
        "    temp = data['result']['temp']['mean'] - 273.15\n",
        "    # getting the humidity from the json data\n",
        "    humidity = data['result']['humidity']['mean']\n",
        "    # getting the month from the json data\n",
        "    month = data['result']['month']\n",
        "    print(f\"City Name : {city_name}\")\n",
        "    print(f\"The avg temperature in month {month} is {temp :.2f} Celsius\")\n",
        "    print(f\"The avg humidity in month {month} is {humidity :.2f} %\")\n",
        "    print(url)\n",
        "else:\n",
        "    message = data['message']\n",
        "    print(\"Something Went Wrong,\", message)"
      ],
      "metadata": {
        "id": "eUp-c3UeJ2Z5"
      },
      "execution_count": null,
      "outputs": []
    },
    {
      "cell_type": "markdown",
      "source": [
        "## Error handling with try except implementation"
      ],
      "metadata": {
        "id": "feKfWLnrav3a"
      }
    },
    {
      "cell_type": "code",
      "source": [
        "import requests\n",
        "from datetime import datetime\n",
        "today = datetime.today()\n",
        "\n",
        "api_key = \"81c713c1b0fea513c62681c97920daa9\"\n",
        "\n",
        "root_url = \"https://history.openweathermap.org/data/2.5/aggregated/month?\"\n",
        "\n",
        "city_name = \"Riau\" #input(\"Please Enter The City Name : \")\n",
        "\n",
        "url = f\"{root_url}month={today.month}&q={city_name},ID&appid={api_key}\"\n",
        "\n",
        "r = requests.get(url)\n",
        "\n",
        "data = r.json()\n",
        "# Checking If there is no error and the status code is 200\n",
        "try:\n",
        "  if data['cod'] == 200:\n",
        "      # getting the temperature from the json data\n",
        "      temp = data['result']['temp']['mean'] - 273.15\n",
        "      month = data['result']['month']\n",
        "      print(f\"City Name : {city_name}\")\n",
        "      print(f\"The avg temperature in month {month} is {temp :.2f} Celsius\")\n",
        "      print(url)\n",
        "  else:\n",
        "      message = data['message']\n",
        "      print(\"Something Went Wrong,\", message)\n",
        "except:\n",
        "  message = data['message']\n",
        "  print(\"error,\", message)"
      ],
      "metadata": {
        "id": "Ku4USNSVauS2"
      },
      "execution_count": null,
      "outputs": []
    },
    {
      "cell_type": "markdown",
      "source": [
        "## Enhanced Error handling with try except for location that has no weather history data"
      ],
      "metadata": {
        "id": "D_IU3pEzJuaI"
      }
    },
    {
      "cell_type": "code",
      "source": [
        "import requests\n",
        "from datetime import datetime\n",
        "today = datetime.today()\n",
        "\n",
        "api_key = \"81c713c1b0fea513c62681c97920daa9\"\n",
        "city_name = input(\"Please Enter The City Name : \")\n",
        "\n",
        "###########################################################################\n",
        "# Bisa dijadikan Function #\n",
        "root_url = \"https://history.openweathermap.org/data/2.5/aggregated/month?\"\n",
        "url = f\"{root_url}month={today.month}&q={city_name},ID&appid={api_key}\"\n",
        "r = requests.get(url)\n",
        "data = r.json()\n",
        "\n",
        "root_url2 = \"https://api.openweathermap.org/data/2.5/weather?\"\n",
        "url2 = f\"{root_url2}q={city_name}&appid={api_key}\"\n",
        "r2 = requests.get(url2)\n",
        "data2 = r2.json()\n",
        "############################################################################\n",
        "\n",
        "# Checking If there is no error and the status code is 200\n",
        "try:\n",
        "  if data['cod'] == 200:\n",
        "      # getting the temperature from the json data\n",
        "      temp = data['result']['temp']['mean'] - 273.15\n",
        "      # getting the humidity from the json data\n",
        "      humidity = data['result']['humidity']['mean']\n",
        "      # getting the month from the json data\n",
        "      month = data['result']['month']\n",
        "      print(f\"City Name : {city_name}\")\n",
        "      print(f\"The avg temperature in month {month} is {temp :.2f} Celsius\")\n",
        "      print(f\"The avg humidity in month {month} is {humidity :.2f} %\")\n",
        "      print(url)\n",
        "  else:\n",
        "      message = data['message']\n",
        "      print(\"Something Went Wrong,\", message)\n",
        "except:\n",
        "  if data['code'] == 404000:\n",
        "      message = data['message']\n",
        "      print(f\"Error, {message}. Switching to current weather....\")\n",
        "      \n",
        "      # getting the temperature from the json data\n",
        "      temp = data2['main']['temp'] - 273.15\n",
        "      # getting the humidity from the json data\n",
        "      humidity = data2['main']['humidity']\n",
        "      print(f\"City Name : {city_name}\")\n",
        "      print(f\"The current temperature is {temp :.2f} Celsius\")\n",
        "      print(f\"The current humidity is {humidity :.2f} %\")\n",
        "      print(url2)"
      ],
      "metadata": {
        "id": "fARZC3faJs4z",
        "colab": {
          "base_uri": "https://localhost:8080/"
        },
        "outputId": "65ee2847-671d-4367-a72f-1def67cd6322"
      },
      "execution_count": 22,
      "outputs": [
        {
          "output_type": "stream",
          "name": "stdout",
          "text": [
            "Please Enter The City Name : p\n",
            "Something Went Wrong, Error\n"
          ]
        }
      ]
    },
    {
      "cell_type": "markdown",
      "source": [
        "## Make it as function"
      ],
      "metadata": {
        "id": "4PwqNh1XuTXg"
      }
    },
    {
      "cell_type": "code",
      "source": [
        "import requests\n",
        "from datetime import datetime\n",
        "today = datetime.today()\n",
        "\n",
        "api_key = \"81c713c1b0fea513c62681c97920daa9\"\n",
        "\n",
        "def root_url(url_param, city_name, api_key):\n",
        "    root_url = [\"https://history.openweathermap.org/data/2.5/aggregated/month?\", \"https://api.openweathermap.org/data/2.5/weather?\"]\n",
        "    root_url = root_url[url_param]\n",
        "    url = [f\"{root_url}month={today.month}&q={city_name},ID&appid={api_key}\", f\"{root_url}q={city_name},ID&appid={api_key}\"]\n",
        "    url = url[url_param]\n",
        "    r = requests.get(url)\n",
        "    data = r.json()\n",
        "    return r, data\n",
        "\n",
        "def weather(city_name):\n",
        "    r, data = root_url(0, city_name, api_key)\n",
        "    # Checking If there is no error and the status code is 200\n",
        "    try:\n",
        "      if data['cod'] == 200:\n",
        "          # getting the temperature from the json data\n",
        "          temp = data['result']['temp']['mean'] - 273.15\n",
        "          # getting the humidity from the json data\n",
        "          humidity = data['result']['humidity']['mean']\n",
        "          # getting the month from the json data\n",
        "          month = data['result']['month']\n",
        "          print(\"success\")\n",
        "      elif data['cod'] != 200:\n",
        "          message = data['message']\n",
        "          print(\"Nama kota tidak ada,\", message)\n",
        "    except:\n",
        "      if data['code'] == 404000:\n",
        "          message = data['message']\n",
        "          print(f\"Error, {message}. Switching to current weather....\")\n",
        "          r, data = root_url(1, city_name, api_key)\n",
        "          # getting the temperature from the json data\n",
        "          temp = data['main']['temp'] - 273.15\n",
        "          # getting the humidity from the json data\n",
        "          humidity = data['main']['humidity']\n",
        "          #print(url)\n",
        "    \n",
        "    return round(temp, 2), humidity"
      ],
      "metadata": {
        "id": "xRx6KtCfBdjh"
      },
      "execution_count": 26,
      "outputs": []
    },
    {
      "cell_type": "markdown",
      "source": [
        "## testing"
      ],
      "metadata": {
        "id": "vPfFYAu7A8lR"
      }
    },
    {
      "cell_type": "code",
      "source": [
        "weather(\"pp\")"
      ],
      "metadata": {
        "id": "MUXTMe3VA1AX",
        "outputId": "26b957af-5de7-4322-ac98-3b32f8b2bd7b",
        "colab": {
          "base_uri": "https://localhost:8080/",
          "height": 252
        }
      },
      "execution_count": 67,
      "outputs": [
        {
          "output_type": "error",
          "ename": "UnboundLocalError",
          "evalue": "ignored",
          "traceback": [
            "\u001b[0;31m---------------------------------------------------------------------------\u001b[0m",
            "\u001b[0;31mUnboundLocalError\u001b[0m                         Traceback (most recent call last)",
            "\u001b[0;32m<ipython-input-67-2ece87d450af>\u001b[0m in \u001b[0;36m<module>\u001b[0;34m()\u001b[0m\n\u001b[0;32m----> 1\u001b[0;31m \u001b[0mweather\u001b[0m\u001b[0;34m(\u001b[0m\u001b[0;34m\"pp\"\u001b[0m\u001b[0;34m)\u001b[0m\u001b[0;34m\u001b[0m\u001b[0;34m\u001b[0m\u001b[0m\n\u001b[0m",
            "\u001b[0;32m<ipython-input-66-6bcb84441f2c>\u001b[0m in \u001b[0;36mweather\u001b[0;34m(city_name)\u001b[0m\n\u001b[1;32m     47\u001b[0m \u001b[0;34m\u001b[0m\u001b[0m\n\u001b[1;32m     48\u001b[0m \u001b[0;34m\u001b[0m\u001b[0m\n\u001b[0;32m---> 49\u001b[0;31m   \u001b[0;32mreturn\u001b[0m \u001b[0mround\u001b[0m\u001b[0;34m(\u001b[0m\u001b[0mtemp\u001b[0m\u001b[0;34m,\u001b[0m \u001b[0;36m2\u001b[0m\u001b[0;34m)\u001b[0m\u001b[0;34m,\u001b[0m \u001b[0mhumidity\u001b[0m\u001b[0;34m\u001b[0m\u001b[0;34m\u001b[0m\u001b[0m\n\u001b[0m",
            "\u001b[0;31mUnboundLocalError\u001b[0m: local variable 'temp' referenced before assignment"
          ]
        }
      ]
    },
    {
      "cell_type": "code",
      "source": [
        "weather(\"banda aceh\")"
      ],
      "metadata": {
        "id": "0m6axXHLA2ls",
        "outputId": "9ef5f985-a157-4d43-e756-e2c42ebff951",
        "colab": {
          "base_uri": "https://localhost:8080/"
        }
      },
      "execution_count": 14,
      "outputs": [
        {
          "output_type": "stream",
          "name": "stdout",
          "text": [
            "success\n"
          ]
        },
        {
          "output_type": "execute_result",
          "data": {
            "text/plain": [
              "(27.57, 81.95)"
            ]
          },
          "metadata": {},
          "execution_count": 14
        }
      ]
    },
    {
      "cell_type": "code",
      "source": [
        "weather(\"murung raya\")"
      ],
      "metadata": {
        "id": "VUIfnwGqA3tW",
        "outputId": "38044a3d-b9af-494c-ef3d-7ff2fa55e336",
        "colab": {
          "base_uri": "https://localhost:8080/"
        }
      },
      "execution_count": 37,
      "outputs": [
        {
          "output_type": "stream",
          "name": "stdout",
          "text": [
            "Error, no data. Switching to current weather....\n"
          ]
        },
        {
          "output_type": "execute_result",
          "data": {
            "text/plain": [
              "(27.11, 91)"
            ]
          },
          "metadata": {},
          "execution_count": 37
        }
      ]
    },
    {
      "cell_type": "markdown",
      "source": [
        "# Bismillah"
      ],
      "metadata": {
        "id": "cfh8moGEMXEp"
      }
    },
    {
      "cell_type": "code",
      "source": [
        "import requests\n",
        "from datetime import datetime\n",
        "today = datetime.today()\n",
        "\n",
        "api_key = \"81c713c1b0fea513c62681c97920daa9\"\n",
        "\n",
        "def root_url(url_param, city_name, api_key):\n",
        "  root_url = [\"https://history.openweathermap.org/data/2.5/aggregated/month?\", \"https://api.openweathermap.org/data/2.5/weather?\"]\n",
        "  root_url = root_url[url_param]\n",
        "  url = [f\"{root_url}month={today.month}&q={city_name},ID&appid={api_key}\", f\"{root_url}q={city_name},ID&appid={api_key}\"]\n",
        "  url = url[url_param]\n",
        "  r = requests.get(url)\n",
        "  data = r.json()\n",
        "  return r, data, url, city_name\n",
        "\n",
        "def weather(city_name):\n",
        "  r, data, url, city_name = root_url(0, city_name, api_key)\n",
        "      # Checking If there is no error and the status code is 200\n",
        "\n",
        "  if 'cod' in data:\n",
        "    print('masuk (if cod in data)')\n",
        "    if data['cod'] == 200:\n",
        "      print('masuk cod 200 (1)')\n",
        "      # getting the temperature from the json data\n",
        "      temp = data['result']['temp']['mean'] - 273.15\n",
        "      # getting the humidity from the json data\n",
        "      humidity = data['result']['humidity']['mean']\n",
        "      # getting the month from the json data\n",
        "      month = data['result']['month']\n",
        "      print(\"success\")\n",
        "      print(city_name)\n",
        "      print(url)\n",
        "    else:\n",
        "      print('masuk cod else (1)')\n",
        "      print(city_name)\n",
        "      print(url)\n",
        "\n",
        "  elif 'code' in data:\n",
        "    print('code')\n",
        "    if data['code'] == 404000:\n",
        "      print(url)\n",
        "      print(\"masuk kesini\")\n",
        "      message = data['message']\n",
        "      print(f\"Error, {message}. Switching to current weather....\")\n",
        "      r, data, url, city_name = root_url(1, city_name, api_key)\n",
        "      if 'cod' in data:\n",
        "        if data['cod'] == 200:\n",
        "          print('manuk cod lagi')\n",
        "          print(city_name)\n",
        "          print(url)\n",
        "          # getting the temperature from the json data\n",
        "          temp = data['main']['temp'] - 273.15\n",
        "          # getting the humidity from the json data\n",
        "          humidity = data['main']['humidity']\n",
        "        else:\n",
        "          temp = 0\n",
        "          humidity = 0\n",
        "          print('There are no data in current weather either')\n",
        "          print(city_name)\n",
        "          print(url)\n",
        "    else:\n",
        "      temp = 0\n",
        "      humidity = 0\n",
        "      print(\"masuk ke code else\")\n",
        "      print(\"gadaa\")\n",
        "      print(city_name)\n",
        "      print(url)\n",
        "\n",
        "  return round(temp, 2), humidity"
      ],
      "metadata": {
        "id": "BmjTF5H3Q1eJ"
      },
      "execution_count": 105,
      "outputs": []
    },
    {
      "cell_type": "code",
      "source": [
        "weather(\"riauu\")"
      ],
      "metadata": {
        "id": "H5Yny0cl3rG_"
      },
      "execution_count": null,
      "outputs": []
    },
    {
      "cell_type": "markdown",
      "source": [
        "## Iterate through city list"
      ],
      "metadata": {
        "id": "CwenylVtKyIe"
      }
    },
    {
      "cell_type": "code",
      "source": [
        "import pandas as pd\n",
        "import io\n",
        "import requests\n",
        "url=\"https://simplemaps.com/static/data/country-cities/id/id.csv\"\n",
        "s=requests.get(url).content\n",
        "c=pd.read_csv(io.StringIO(s.decode('utf-8')))\n",
        "\n",
        "c.head()"
      ],
      "metadata": {
        "id": "gxWqTuqD7C1T"
      },
      "execution_count": null,
      "outputs": []
    },
    {
      "cell_type": "code",
      "source": [
        "c.loc[:, \"city\"]"
      ],
      "metadata": {
        "id": "4f38AETH86RR"
      },
      "execution_count": null,
      "outputs": []
    },
    {
      "cell_type": "code",
      "source": [
        "x = c.loc[:,'city']\n",
        "for i in x:\n",
        "  weather(i)\n",
        "  print(\"=\" * 100)"
      ],
      "metadata": {
        "id": "Id7ttERl70HQ"
      },
      "execution_count": null,
      "outputs": []
    },
    {
      "cell_type": "code",
      "source": [
        ""
      ],
      "metadata": {
        "id": "7O1WT6hS7lqI"
      },
      "execution_count": null,
      "outputs": []
    }
  ]
}