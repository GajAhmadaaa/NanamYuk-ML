{
  "nbformat": 4,
  "nbformat_minor": 0,
  "metadata": {
    "colab": {
      "name": "OpenWeatherMap API",
      "provenance": [],
      "collapsed_sections": [
        "eal56-rfJ1vR",
        "feKfWLnrav3a",
        "ws4Mzg1yvckA"
      ],
      "include_colab_link": true
    },
    "kernelspec": {
      "name": "python3",
      "display_name": "Python 3"
    },
    "language_info": {
      "name": "python"
    }
  },
  "cells": [
    {
      "cell_type": "markdown",
      "metadata": {
        "id": "view-in-github",
        "colab_type": "text"
      },
      "source": [
        "<a href=\"https://colab.research.google.com/github/GajAhmadaaa/NanamYuk-ML/blob/main/OpenWeatherMap_API.ipynb\" target=\"_parent\"><img src=\"https://colab.research.google.com/assets/colab-badge.svg\" alt=\"Open In Colab\"/></a>"
      ]
    },
    {
      "cell_type": "markdown",
      "source": [
        "## Raw City Based Weather Analysis"
      ],
      "metadata": {
        "id": "3hWsdMSWy203"
      }
    },
    {
      "cell_type": "code",
      "source": [
        "# importing the required libraries\n",
        "import requests\n",
        "# Enter the api key of openweathermap here\n",
        "api_key = \"81c713c1b0fea513c62681c97920daa9\"\n",
        "# Base url for the open map api\n",
        "root_url = \"http://api.openweathermap.org/data/2.5/weather?\"\n",
        "# Input the City name for which we need the weather data\n",
        "city_name = input(\"Please Enter The City Name : \")\n",
        "# Building the final url for the API call\n",
        "url = f\"{root_url}appid={api_key}&q={city_name}\"\n",
        "# sending a get request at the url\n",
        "r = requests.get(url)\n",
        "# storing the returned json data into a variable\n",
        "data = r.json()\n",
        "# Checking If there is no error and the status code is 200\n",
        "if data['cod'] == 200:\n",
        "    # getting the temperature from the json data\n",
        "    temp = data['main']['temp'] - 273.15\n",
        "    # getting the pressure from the json data\n",
        "    pressure = data['main']['pressure']\n",
        "    # getting the humidity from the json data\n",
        "    humidity = data['main']['humidity']\n",
        "    # getting the description from the json data\n",
        "    descr = data['weather'][0]['description']\n",
        "    # getting the wind speed from the json data\n",
        "    wind = data['wind']['speed']\n",
        "    # Displaying all the data\n",
        "    print(f\"City Name : {city_name}\")\n",
        "    print(f\"The Weather Condition is {descr}\")\n",
        "    print(f\"The temperature is {temp :.2f} Celsius\")\n",
        "    print(f\"The pressure is {pressure}hPa\")\n",
        "    print(f\"The humidity is {humidity}%\")\n",
        "    print(f\"The speed of wind is {wind}m/s\")\n",
        "    print(url)\n",
        "else:\n",
        "    # If any error occured then print this\n",
        "    print(\"gaada nama kota\")"
      ],
      "metadata": {
        "id": "fam5io_64MMA",
        "outputId": "76b7a95b-d990-4dab-acc6-2330c8aacb2b",
        "colab": {
          "base_uri": "https://localhost:8080/"
        }
      },
      "execution_count": 6,
      "outputs": [
        {
          "output_type": "stream",
          "name": "stdout",
          "text": [
            "Please Enter The City Name : jakarta\n",
            "City Name : jakarta\n",
            "The Weather Condition is overcast clouds\n",
            "The temperature is 31.56 Celsius\n",
            "The pressure is 1007hPa\n",
            "The humidity is 67%\n",
            "The speed of wind is 4.4m/s\n",
            "http://api.openweathermap.org/data/2.5/weather?appid=81c713c1b0fea513c62681c97920daa9&q=jakarta\n"
          ]
        }
      ]
    },
    {
      "cell_type": "markdown",
      "source": [
        "## Improved City Based Weather Analysis but just avg Temp within month"
      ],
      "metadata": {
        "id": "eal56-rfJ1vR"
      }
    },
    {
      "cell_type": "code",
      "source": [
        "import requests\n",
        "from datetime import datetime\n",
        "today = datetime.today()\n",
        "\n",
        "api_key = \"81c713c1b0fea513c62681c97920daa9\"\n",
        "\n",
        "root_url = \"https://history.openweathermap.org/data/2.5/aggregated/month?\"\n",
        "\n",
        "city_name = input(\"Please Enter The City Name : \")\n",
        "\n",
        "url = f\"{root_url}month={today.month}&q={city_name},ID&appid={api_key}\"\n",
        "\n",
        "r = requests.get(url)\n",
        "\n",
        "data = r.json()\n",
        "# Checking If there is no error and the status code is 200\n",
        "if data['cod'] == 200:\n",
        "    # getting the temperature from the json data\n",
        "    temp = data['result']['temp']['mean'] - 273.15\n",
        "    # getting the humidity from the json data\n",
        "    humidity = data['result']['humidity']['mean']\n",
        "    # getting the month from the json data\n",
        "    month = data['result']['month']\n",
        "    print(f\"City Name : {city_name}\")\n",
        "    print(f\"The avg temperature in month {month} is {temp :.2f} Celsius\")\n",
        "    print(f\"The avg humidity in month {month} is {humidity :.2f} %\")\n",
        "    print(url)\n",
        "else:\n",
        "    message = data['message']\n",
        "    print(\"Something Went Wrong,\", message)"
      ],
      "metadata": {
        "id": "eUp-c3UeJ2Z5"
      },
      "execution_count": null,
      "outputs": []
    },
    {
      "cell_type": "markdown",
      "source": [
        "## Error handling with try except implementation"
      ],
      "metadata": {
        "id": "feKfWLnrav3a"
      }
    },
    {
      "cell_type": "code",
      "source": [
        "import requests\n",
        "from datetime import datetime\n",
        "today = datetime.today()\n",
        "\n",
        "api_key = \"81c713c1b0fea513c62681c97920daa9\"\n",
        "\n",
        "root_url = \"https://history.openweathermap.org/data/2.5/aggregated/month?\"\n",
        "\n",
        "city_name = \"Riau\" #input(\"Please Enter The City Name : \")\n",
        "\n",
        "url = f\"{root_url}month={today.month}&q={city_name},ID&appid={api_key}\"\n",
        "\n",
        "r = requests.get(url)\n",
        "\n",
        "data = r.json()\n",
        "# Checking If there is no error and the status code is 200\n",
        "try:\n",
        "  if data['cod'] == 200:\n",
        "      # getting the temperature from the json data\n",
        "      temp = data['result']['temp']['mean'] - 273.15\n",
        "      month = data['result']['month']\n",
        "      print(f\"City Name : {city_name}\")\n",
        "      print(f\"The avg temperature in month {month} is {temp :.2f} Celsius\")\n",
        "      print(url)\n",
        "  else:\n",
        "      message = data['message']\n",
        "      print(\"Something Went Wrong,\", message)\n",
        "except:\n",
        "  message = data['message']\n",
        "  print(\"error,\", message)"
      ],
      "metadata": {
        "id": "Ku4USNSVauS2"
      },
      "execution_count": null,
      "outputs": []
    },
    {
      "cell_type": "markdown",
      "source": [
        "## Enhanced Error handling with try except for location that has no weather history data"
      ],
      "metadata": {
        "id": "D_IU3pEzJuaI"
      }
    },
    {
      "cell_type": "code",
      "source": [
        "import requests\n",
        "from datetime import datetime\n",
        "today = datetime.today()\n",
        "\n",
        "api_key = \"81c713c1b0fea513c62681c97920daa9\"\n",
        "city_name = input(\"Please Enter The City Name : \")\n",
        "\n",
        "###########################################################################\n",
        "# Bisa dijadikan Function #\n",
        "root_url = \"https://history.openweathermap.org/data/2.5/aggregated/month?\"\n",
        "url = f\"{root_url}month={today.month}&q={city_name},ID&appid={api_key}\"\n",
        "r = requests.get(url)\n",
        "data = r.json()\n",
        "\n",
        "root_url2 = \"https://api.openweathermap.org/data/2.5/weather?\"\n",
        "url2 = f\"{root_url2}q={city_name}&appid={api_key}\"\n",
        "r2 = requests.get(url2)\n",
        "data2 = r2.json()\n",
        "############################################################################\n",
        "\n",
        "# Checking If there is no error and the status code is 200\n",
        "try:\n",
        "  if data['cod'] == 200:\n",
        "      # getting the temperature from the json data\n",
        "      temp = data['result']['temp']['mean'] - 273.15\n",
        "      # getting the humidity from the json data\n",
        "      humidity = data['result']['humidity']['mean']\n",
        "      # getting the month from the json data\n",
        "      month = data['result']['month']\n",
        "      print(f\"City Name : {city_name}\")\n",
        "      print(f\"The avg temperature in month {month} is {temp :.2f} Celsius\")\n",
        "      print(f\"The avg humidity in month {month} is {humidity :.2f} %\")\n",
        "      print(url)\n",
        "  else:\n",
        "      message = data['message']\n",
        "      print(\"Something Went Wrong,\", message)\n",
        "except:\n",
        "  if data['code'] == 404000:\n",
        "      message = data['message']\n",
        "      print(f\"Error, {message}. Switching to current weather....\")\n",
        "      \n",
        "      # getting the temperature from the json data\n",
        "      temp = data2['main']['temp'] - 273.15\n",
        "      # getting the humidity from the json data\n",
        "      humidity = data2['main']['humidity']\n",
        "      print(f\"City Name : {city_name}\")\n",
        "      print(f\"The current temperature is {temp :.2f} Celsius\")\n",
        "      print(f\"The current humidity is {humidity :.2f} %\")\n",
        "      print(url2)"
      ],
      "metadata": {
        "id": "fARZC3faJs4z"
      },
      "execution_count": null,
      "outputs": []
    },
    {
      "cell_type": "markdown",
      "source": [
        "## Make it as function"
      ],
      "metadata": {
        "id": "4PwqNh1XuTXg"
      }
    },
    {
      "cell_type": "code",
      "source": [
        "import requests\n",
        "from datetime import datetime\n",
        "today = datetime.today()\n",
        "\n",
        "api_key = \"81c713c1b0fea513c62681c97920daa9\"\n",
        "\n",
        "def root_url(url_param, city_name, api_key):\n",
        "    root_url = [\"https://history.openweathermap.org/data/2.5/aggregated/month?\", \"https://api.openweathermap.org/data/2.5/weather?\"]\n",
        "    root_url = root_url[url_param]\n",
        "    url = [f\"{root_url}month={today.month}&q={city_name},ID&appid={api_key}\", f\"{root_url}q={city_name},ID&appid={api_key}\"]\n",
        "    url = url[url_param]\n",
        "    r = requests.get(url)\n",
        "    data = r.json()\n",
        "    return r, data\n",
        "\n",
        "def weather(city_name):\n",
        "    r, data = root_url(0, city_name, api_key)\n",
        "    # Checking If there is no error and the status code is 200\n",
        "    try:\n",
        "      if data['cod'] == 200:\n",
        "          # getting the temperature from the json data\n",
        "          temp = data['result']['temp']['mean'] - 273.15\n",
        "          # getting the humidity from the json data\n",
        "          humidity = data['result']['humidity']['mean']\n",
        "          # getting the month from the json data\n",
        "          month = data['result']['month']\n",
        "          print(\"success\")\n",
        "      else:\n",
        "          message = data['message']\n",
        "          print(\"Something Went Wrong,\", message)\n",
        "    except KeyError:\n",
        "      if data['code'] == 404000:\n",
        "          message = data['message']\n",
        "          print(f\"Error, {message}. Switching to current weather....\")\n",
        "          r, data = root_url(1, city_name, api_key)\n",
        "          # getting the temperature from the json data\n",
        "          temp = data['main']['temp'] - 273.15\n",
        "          # getting the humidity from the json data\n",
        "          humidity = data['main']['humidity']\n",
        "          #print(url)\n",
        "    \n",
        "    return round(temp, 2), humidity"
      ],
      "metadata": {
        "id": "xRx6KtCfBdjh"
      },
      "execution_count": 22,
      "outputs": []
    },
    {
      "cell_type": "markdown",
      "source": [
        "## testing"
      ],
      "metadata": {
        "id": "vPfFYAu7A8lR"
      }
    },
    {
      "cell_type": "code",
      "source": [
        "weather(\"riau\")"
      ],
      "metadata": {
        "id": "MUXTMe3VA1AX",
        "outputId": "233004f1-50db-49df-9169-4489666b8545",
        "colab": {
          "base_uri": "https://localhost:8080/",
          "height": 301
        }
      },
      "execution_count": 17,
      "outputs": [
        {
          "output_type": "error",
          "ename": "KeyError",
          "evalue": "ignored",
          "traceback": [
            "\u001b[0;31m---------------------------------------------------------------------------\u001b[0m",
            "\u001b[0;31mKeyError\u001b[0m                                  Traceback (most recent call last)",
            "\u001b[0;32m<ipython-input-17-f9df304ee2a9>\u001b[0m in \u001b[0;36m<module>\u001b[0;34m()\u001b[0m\n\u001b[0;32m----> 1\u001b[0;31m \u001b[0mweather\u001b[0m\u001b[0;34m(\u001b[0m\u001b[0;34m\"riau\"\u001b[0m\u001b[0;34m)\u001b[0m\u001b[0;34m\u001b[0m\u001b[0;34m\u001b[0m\u001b[0m\n\u001b[0m",
            "\u001b[0;32m<ipython-input-16-f005b6f298ec>\u001b[0m in \u001b[0;36mweather\u001b[0;34m(city_name)\u001b[0m\n\u001b[1;32m     21\u001b[0m     \u001b[0mr\u001b[0m\u001b[0;34m,\u001b[0m \u001b[0mdata\u001b[0m \u001b[0;34m=\u001b[0m \u001b[0mroot_url\u001b[0m\u001b[0;34m(\u001b[0m\u001b[0;36m0\u001b[0m\u001b[0;34m,\u001b[0m \u001b[0mcity_name\u001b[0m\u001b[0;34m,\u001b[0m \u001b[0mapi_key\u001b[0m\u001b[0;34m)\u001b[0m\u001b[0;34m\u001b[0m\u001b[0;34m\u001b[0m\u001b[0m\n\u001b[1;32m     22\u001b[0m     \u001b[0;31m# Checking If there is no error and the status code is 200\u001b[0m\u001b[0;34m\u001b[0m\u001b[0;34m\u001b[0m\u001b[0;34m\u001b[0m\u001b[0m\n\u001b[0;32m---> 23\u001b[0;31m     \u001b[0;32mif\u001b[0m \u001b[0mdata\u001b[0m\u001b[0;34m[\u001b[0m\u001b[0;34m'cod'\u001b[0m\u001b[0;34m]\u001b[0m \u001b[0;34m==\u001b[0m \u001b[0;36m200\u001b[0m\u001b[0;34m:\u001b[0m\u001b[0;34m\u001b[0m\u001b[0;34m\u001b[0m\u001b[0m\n\u001b[0m\u001b[1;32m     24\u001b[0m       \u001b[0;32mtry\u001b[0m\u001b[0;34m:\u001b[0m\u001b[0;34m\u001b[0m\u001b[0;34m\u001b[0m\u001b[0m\n\u001b[1;32m     25\u001b[0m         \u001b[0;31m# getting the temperature from the json data\u001b[0m\u001b[0;34m\u001b[0m\u001b[0;34m\u001b[0m\u001b[0;34m\u001b[0m\u001b[0m\n",
            "\u001b[0;31mKeyError\u001b[0m: 'cod'"
          ]
        }
      ]
    },
    {
      "cell_type": "code",
      "source": [
        "weather(\"jakarta\")"
      ],
      "metadata": {
        "id": "0m6axXHLA2ls",
        "outputId": "5ac885b3-c218-48ea-b226-f72035b1cba9",
        "colab": {
          "base_uri": "https://localhost:8080/"
        }
      },
      "execution_count": 13,
      "outputs": [
        {
          "output_type": "stream",
          "name": "stdout",
          "text": [
            "success\n"
          ]
        },
        {
          "output_type": "execute_result",
          "data": {
            "text/plain": [
              "(28.62, 77.31)"
            ]
          },
          "metadata": {},
          "execution_count": 13
        }
      ]
    },
    {
      "cell_type": "code",
      "source": [
        "weather(\"\")"
      ],
      "metadata": {
        "id": "VUIfnwGqA3tW",
        "outputId": "4b02f53c-aeb5-46d7-cf3a-33d8898424a5",
        "colab": {
          "base_uri": "https://localhost:8080/",
          "height": 473
        }
      },
      "execution_count": 26,
      "outputs": [
        {
          "output_type": "stream",
          "name": "stdout",
          "text": [
            "Error, no data. Switching to current weather....\n"
          ]
        },
        {
          "output_type": "error",
          "ename": "KeyError",
          "evalue": "ignored",
          "traceback": [
            "\u001b[0;31m---------------------------------------------------------------------------\u001b[0m",
            "\u001b[0;31mKeyError\u001b[0m                                  Traceback (most recent call last)",
            "\u001b[0;32m<ipython-input-24-92d2bc10e746>\u001b[0m in \u001b[0;36mweather\u001b[0;34m(city_name)\u001b[0m\n\u001b[1;32m     19\u001b[0m   \u001b[0;32mtry\u001b[0m\u001b[0;34m:\u001b[0m\u001b[0;34m\u001b[0m\u001b[0;34m\u001b[0m\u001b[0m\n\u001b[0;32m---> 20\u001b[0;31m     \u001b[0;32mif\u001b[0m \u001b[0mdata\u001b[0m\u001b[0;34m[\u001b[0m\u001b[0;34m'cod'\u001b[0m\u001b[0;34m]\u001b[0m \u001b[0;34m==\u001b[0m \u001b[0;36m200\u001b[0m\u001b[0;34m:\u001b[0m\u001b[0;34m\u001b[0m\u001b[0;34m\u001b[0m\u001b[0m\n\u001b[0m\u001b[1;32m     21\u001b[0m       \u001b[0;31m# getting the temperature from the json data\u001b[0m\u001b[0;34m\u001b[0m\u001b[0;34m\u001b[0m\u001b[0;34m\u001b[0m\u001b[0m\n",
            "\u001b[0;31mKeyError\u001b[0m: 'cod'",
            "\nDuring handling of the above exception, another exception occurred:\n",
            "\u001b[0;31mKeyError\u001b[0m                                  Traceback (most recent call last)",
            "\u001b[0;32m<ipython-input-26-e20ebadd6db5>\u001b[0m in \u001b[0;36m<module>\u001b[0;34m()\u001b[0m\n\u001b[0;32m----> 1\u001b[0;31m \u001b[0mweather\u001b[0m\u001b[0;34m(\u001b[0m\u001b[0;34m\"pppp\"\u001b[0m\u001b[0;34m)\u001b[0m\u001b[0;34m\u001b[0m\u001b[0;34m\u001b[0m\u001b[0m\n\u001b[0m",
            "\u001b[0;32m<ipython-input-24-92d2bc10e746>\u001b[0m in \u001b[0;36mweather\u001b[0;34m(city_name)\u001b[0m\n\u001b[1;32m     35\u001b[0m       \u001b[0mr\u001b[0m\u001b[0;34m,\u001b[0m \u001b[0mdata\u001b[0m \u001b[0;34m=\u001b[0m \u001b[0mroot_url\u001b[0m\u001b[0;34m(\u001b[0m\u001b[0;36m1\u001b[0m\u001b[0;34m,\u001b[0m \u001b[0mcity_name\u001b[0m\u001b[0;34m,\u001b[0m \u001b[0mapi_key\u001b[0m\u001b[0;34m)\u001b[0m\u001b[0;34m\u001b[0m\u001b[0;34m\u001b[0m\u001b[0m\n\u001b[1;32m     36\u001b[0m       \u001b[0;31m# getting the temperature from the json data\u001b[0m\u001b[0;34m\u001b[0m\u001b[0;34m\u001b[0m\u001b[0;34m\u001b[0m\u001b[0m\n\u001b[0;32m---> 37\u001b[0;31m       \u001b[0mtemp\u001b[0m \u001b[0;34m=\u001b[0m \u001b[0mdata\u001b[0m\u001b[0;34m[\u001b[0m\u001b[0;34m'main'\u001b[0m\u001b[0;34m]\u001b[0m\u001b[0;34m[\u001b[0m\u001b[0;34m'temp'\u001b[0m\u001b[0;34m]\u001b[0m \u001b[0;34m-\u001b[0m \u001b[0;36m273.15\u001b[0m\u001b[0;34m\u001b[0m\u001b[0;34m\u001b[0m\u001b[0m\n\u001b[0m\u001b[1;32m     38\u001b[0m       \u001b[0;31m# getting the humidity from the json data\u001b[0m\u001b[0;34m\u001b[0m\u001b[0;34m\u001b[0m\u001b[0;34m\u001b[0m\u001b[0m\n\u001b[1;32m     39\u001b[0m       \u001b[0mhumidity\u001b[0m \u001b[0;34m=\u001b[0m \u001b[0mdata\u001b[0m\u001b[0;34m[\u001b[0m\u001b[0;34m'main'\u001b[0m\u001b[0;34m]\u001b[0m\u001b[0;34m[\u001b[0m\u001b[0;34m'humidity'\u001b[0m\u001b[0;34m]\u001b[0m\u001b[0;34m\u001b[0m\u001b[0;34m\u001b[0m\u001b[0m\n",
            "\u001b[0;31mKeyError\u001b[0m: 'main'"
          ]
        }
      ]
    },
    {
      "cell_type": "code",
      "source": [
        "import requests\n",
        "from datetime import datetime\n",
        "today = datetime.today()\n",
        "\n",
        "api_key = \"81c713c1b0fea513c62681c97920daa9\"\n",
        "\n",
        "def root_url(url_param, city_name, api_key):\n",
        "  root_url = [\"https://history.openweathermap.org/data/2.5/aggregated/month?\", \"https://api.openweathermap.org/data/2.5/weather?\"]\n",
        "  root_url = root_url[url_param]\n",
        "  url = [f\"{root_url}month={today.month}&q={city_name},ID&appid={api_key}\", f\"{root_url}q={city_name},ID&appid={api_key}\"]\n",
        "  url = url[url_param]\n",
        "  r = requests.get(url)\n",
        "  data = r.json()\n",
        "  return r, data\n",
        "\n",
        "def weather(city_name):\n",
        "  r, data = root_url(0, city_name, api_key)\n",
        "      # Checking If there is no error and the status code is 200\n",
        "  try:\n",
        "    if data['cod'] == 200:\n",
        "      # getting the temperature from the json data\n",
        "      temp = data['result']['temp']['mean'] - 273.15\n",
        "      # getting the humidity from the json data\n",
        "      humidity = data['result']['humidity']['mean']\n",
        "      # getting the month from the json data\n",
        "      month = data['result']['month']\n",
        "      print(\"success\")\n",
        "    else:\n",
        "      message = data['message']\n",
        "      print(\"Something Went Wrong,\", message)\n",
        "  except:\n",
        "    if data['code'] == 404000:\n",
        "      message = data['message']\n",
        "      print(f\"Error, {message}. Switching to current weather....\")\n",
        "      r, data = root_url(1, city_name, api_key)\n",
        "      # getting the temperature from the json data\n",
        "      temp = data['main']['temp'] - 273.15\n",
        "      # getting the humidity from the json data\n",
        "      humidity = data['main']['humidity']\n",
        "    #print(url)\n",
        "\n",
        "  return round(temp, 2), humidity"
      ],
      "metadata": {
        "id": "BmjTF5H3Q1eJ"
      },
      "execution_count": 24,
      "outputs": []
    },
    {
      "cell_type": "code",
      "source": [
        ""
      ],
      "metadata": {
        "id": "laXLmBjVSFVv"
      },
      "execution_count": null,
      "outputs": []
    }
  ]
}