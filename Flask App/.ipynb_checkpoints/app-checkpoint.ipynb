{
 "cells": [
  {
   "cell_type": "code",
   "execution_count": null,
   "id": "24616ee1-db2c-47ae-8943-37f0dfc594a9",
   "metadata": {},
   "outputs": [],
   "source": [
    "import tensorflow as tf\n",
    "import numpy as np\n",
    "import pandas as pd\n",
    "\n",
    "from sklearn.preprocessing import LabelEncoder\n",
    "from Weather import weather\n",
    "from flask import Flask, request"
   ]
  },
  {
   "cell_type": "code",
   "execution_count": null,
   "id": "50eb2f59-b2a6-4ecd-a564-f9e03c59da0e",
   "metadata": {},
   "outputs": [],
   "source": [
    "df = pd.read_csv('dataset.csv')\n",
    "y = df.iloc[:,5].values\n",
    "encoder = LabelEncoder()\n",
    "encoder.fit_transform(y)\n",
    "\n",
    "reconstructed_model = tf.keras.models.load_model(\"model.h5\")"
   ]
  },
  {
   "cell_type": "code",
   "execution_count": 3,
   "id": "3593f2a3-542b-4c7f-baa6-e220aee38825",
   "metadata": {},
   "outputs": [
    {
     "name": "stderr",
     "output_type": "stream",
     "text": [
      "127.0.0.1 - - [09/Jun/2022 01:43:54] \"GET /predict?soil=1&light=1&city=jantung HTTP/1.1\" 200 -\n",
      "127.0.0.1 - - [09/Jun/2022 01:44:16] \"GET /predict?soil=1&light=1&city=palu HTTP/1.1\" 200 -\n"
     ]
    }
   ],
   "source": [
    "app = Flask(__name__)\n",
    "\n",
    "@app.route('/predict', methods=['GET'])\n",
    "def predict():\n",
    "    args = request.args\n",
    "    city = args.get('city')\n",
    "    soil = int(args.get('soil'))\n",
    "    light = int(args.get('light'))\n",
    "    weathers = weather(city)\n",
    "    \n",
    "    if weathers is False:\n",
    "        return {\"response\": 404,\n",
    "                \"message\": \"Nama kota salah atau tidak terdaftar\"}\n",
    "    \n",
    "    else:\n",
    "        temp, humidity, rainfall = weathers\n",
    "        input = reconstructed_model.predict([[temp, soil, light, humidity, rainfall]])\n",
    "        predicted = np.argsort(input, axis=1)[:1]\n",
    "        dicts = {\"response\": 200}\n",
    "        for top_5 in predicted[:1,-5:]:\n",
    "            top_5 = encoder.inverse_transform(top_5)\n",
    "            i = 1\n",
    "            for name in top_5[::-1]:\n",
    "                dicts[str(i)] = name\n",
    "                i += 1\n",
    "                \n",
    "        return dicts\n",
    "\n",
    "if __name__ == '__main__':\n",
    "    \n",
    "    app.run()"
   ]
  },
  {
   "cell_type": "code",
   "execution_count": null,
   "id": "530fa4da-e960-4214-9688-50625a64544e",
   "metadata": {},
   "outputs": [],
   "source": []
  }
 ],
 "metadata": {
  "kernelspec": {
   "display_name": "Python 3 (ipykernel)",
   "language": "python",
   "name": "python3"
  },
  "language_info": {
   "codemirror_mode": {
    "name": "ipython",
    "version": 3
   },
   "file_extension": ".py",
   "mimetype": "text/x-python",
   "name": "python",
   "nbconvert_exporter": "python",
   "pygments_lexer": "ipython3",
   "version": "3.9.12"
  }
 },
 "nbformat": 4,
 "nbformat_minor": 5
}
