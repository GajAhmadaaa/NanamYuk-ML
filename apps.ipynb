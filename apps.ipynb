{
 "cells": [
  {
   "cell_type": "code",
   "execution_count": null,
   "id": "24616ee1-db2c-47ae-8943-37f0dfc594a9",
   "metadata": {},
   "outputs": [],
   "source": [
    "import os\n",
    "import io\n",
    "import tensorflow as tf\n",
    "import numpy as np\n",
    "import pandas as pd\n",
    "\n",
    "from sklearn.preprocessing import LabelEncoder\n",
    "from Weather import weather\n",
    "from flask import Flask, request, jsonify\n",
    "app = Flask(__name__)"
   ]
  },
  {
   "cell_type": "code",
   "execution_count": null,
   "id": "50eb2f59-b2a6-4ecd-a564-f9e03c59da0e",
   "metadata": {},
   "outputs": [],
   "source": [
    "df = pd.read_csv('crop.csv')\n",
    "y = df.iloc[:,5].values\n",
    "encoder = LabelEncoder()\n",
    "Y = encoder.fit_transform(y)\n",
    "\n",
    "reconstructed_model = tf.keras.models.load_model(\"save.h5\")"
   ]
  },
  {
   "cell_type": "code",
   "execution_count": null,
   "id": "3593f2a3-542b-4c7f-baa6-e220aee38825",
   "metadata": {},
   "outputs": [],
   "source": [
    "@app.route('/prediksi', methods=['GET'])\n",
    "def prediksi():\n",
    "    args = request.args\n",
    "    kota = args.get('kota')\n",
    "    tanah = args.get('tanah')\n",
    "    cahaya = args.get('cahaya')\n",
    "    temp, humidity, precipitation = weather(kota)\n",
    "    input = reconstructed_model.predict([[temp, 1, 1, humidity, precipitation]])\n",
    "    output = np.argsort(input, axis=1)[:,7:].flatten()\n",
    "    outputt = (encoder.inverse_transform(output))[::-1]\n",
    "    return str(outputt)\n",
    "\n",
    "if __name__ == '__main__':\n",
    "    \n",
    "    app.run()"
   ]
  },
  {
   "cell_type": "code",
   "execution_count": null,
   "id": "b4a67175-6c21-426a-afd8-a0dfd42b8cfb",
   "metadata": {},
   "outputs": [],
   "source": []
  }
 ],
 "metadata": {
  "kernelspec": {
   "display_name": "Python 3 (ipykernel)",
   "language": "python",
   "name": "python3"
  },
  "language_info": {
   "codemirror_mode": {
    "name": "ipython",
    "version": 3
   },
   "file_extension": ".py",
   "mimetype": "text/x-python",
   "name": "python",
   "nbconvert_exporter": "python",
   "pygments_lexer": "ipython3",
   "version": "3.9.12"
  }
 },
 "nbformat": 4,
 "nbformat_minor": 5
}
